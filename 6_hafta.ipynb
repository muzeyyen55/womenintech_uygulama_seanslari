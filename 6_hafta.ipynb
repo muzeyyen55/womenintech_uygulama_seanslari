{
 "cells": [
  {
   "cell_type": "markdown",
   "metadata": {},
   "source": [
    "1. Soru\n",
    "\n",
    "   Kullanıcının girdiği ad, soyad ve yaş bilgilerini tutan bir dictionary oluşturunuz.\n",
    "\n",
    "* Kullanıcının ad değerini, büyük harfler ile güncelleyiniz.\n",
    "* Kullanıcının yaş değerine 2 ekleyiniz.\n",
    "* Dictionary' e kullanıcının en ssevdiği engi ekleyiniz key - value şeklinde ekleyiniz.\n",
    "* Kullanıcının adını ve soyadını kapsayan yeni bir key - value ekleyiniz.\n",
    "* Kullanıcının ad değerini dictionary' den kaldırınız."
   ]
  },
  {
   "cell_type": "code",
   "execution_count": 15,
   "metadata": {},
   "outputs": [
    {
     "data": {
      "text/plain": [
       "{'name': 'Nur', 'surname': 'AKÇAY', 'age': 23}"
      ]
     },
     "execution_count": 15,
     "metadata": {},
     "output_type": "execute_result"
    }
   ],
   "source": [
    "kimlik = {\n",
    "    \"name\": \"Nur\",\n",
    "    \"surname\": \"AKÇAY\",\n",
    "    \"age\": 23\n",
    "}\n",
    "\n",
    "kimlik"
   ]
  },
  {
   "cell_type": "code",
   "execution_count": null,
   "metadata": {},
   "outputs": [],
   "source": [
    "#Kullanıcının ad değerini, büyük harfler ile güncelleyiniz.\n",
    "\n",
    "kimlik = {\n",
    "    \"name\": \"Nur\"\n",
    "}\n",
    "\n",
    "for key, value in kimlik.items():\n",
    "    kimlik.update({key:value.replace().upper})\n",
    "\n",
    "kimlik"
   ]
  },
  {
   "cell_type": "code",
   "execution_count": null,
   "metadata": {},
   "outputs": [],
   "source": [
    "#Kullanıcının yaş değerine 2 ekleyiniz."
   ]
  },
  {
   "cell_type": "code",
   "execution_count": 16,
   "metadata": {},
   "outputs": [
    {
     "data": {
      "text/plain": [
       "{'name': 'Nur', 'surname': 'AKÇAY', 'age': 23, 'en sevdiğim renk': 'yellow'}"
      ]
     },
     "execution_count": 16,
     "metadata": {},
     "output_type": "execute_result"
    }
   ],
   "source": [
    "#Dictionary' e kullanıcının en sevdiği rengi ekleyiniz key - value şeklinde ekleyiniz.\n",
    "\n",
    "kimlik.update({\"en sevdiğim renk\":\"yellow\"})\n",
    "kimlik"
   ]
  },
  {
   "cell_type": "code",
   "execution_count": 22,
   "metadata": {},
   "outputs": [
    {
     "data": {
      "text/plain": [
       "{'name': 'Nur', 'adı': 'Ayşe', 'soyadı': 'AKTAĞ'}"
      ]
     },
     "execution_count": 22,
     "metadata": {},
     "output_type": "execute_result"
    }
   ],
   "source": [
    "#Kullanıcının adını ve soyadını kapsayan yeni bir key - value ekleyiniz.\n",
    "kimlik[\"adı\"] = \"Ayşe\"\n",
    "kimlik[\"soyadı\"] = \"AKTAĞ\"\n",
    "kimlik\n"
   ]
  },
  {
   "cell_type": "markdown",
   "metadata": {},
   "source": [
    "2. Soru\n",
    "\n",
    "   Kullanıcının verdiği aralığa göre, key değerleri o anki sayi, value değerleri o anki sayının karesi olan bir dictionary oluşturunuz.\n",
    "\n",
    "   Örnek olarak; kullanıcı aralık olarak 2 ve 7 girmiş olsun. Bizden beklenen dictionary şu şekilde olmalıdır.\n",
    "\n",
    "   {2: 4, 3: 9, 4: 16, 5: 25, 6: 36, 7: 49}"
   ]
  },
  {
   "cell_type": "code",
   "execution_count": null,
   "metadata": {},
   "outputs": [],
   "source": []
  },
  {
   "cell_type": "markdown",
   "metadata": {},
   "source": [
    "3. Soru\n",
    "   \n",
    "   Aşağıda verilen liste ile istenilen işlemleri yapınız.\n",
    "\n",
    "   * Yaşı: 20' den büyük olanları ekrana yazdırınız.\n",
    "   * Adı: 'A' ile başlayanları ekrana yazdırınız.\n",
    "   * Soyadı: 'J' ile başlayanları ekrana yazdırınız.\n",
    "   * Adı 'C' ile soyadı 'A' ile başlayanları ekrana yazdırınız.\n",
    "   * Adının içinde 'A' harfi geçenleri ekrana yazdırınız.\n",
    "   * Yaşı tek sayı olanları ekrana yazdırınız.\n",
    "   * Kullanıcının yaşını, (kullanıcının yaşı + kullanıcının soyadı uzunluğu) şeklinde güncelleyiniz.\n",
    "   * Kullanıcının adını ve soyadını içeren FullName adında yeni bir key - value pair oluşturunuz."
   ]
  },
  {
   "cell_type": "code",
   "execution_count": null,
   "metadata": {},
   "outputs": [],
   "source": [
    "myUsers = [\n",
    "    {\n",
    "        \"Name\":\"Rosalind\",\n",
    "        \"Surname\": \"Rich\",\n",
    "        \"Age\": 23\n",
    "    }\n",
    "    ,{\n",
    "        \"Name\":\"Annika\",\n",
    "        \"Surname\": \"Keenan\",\n",
    "        \"Age\": 28\n",
    "    }\n",
    "    ,{\n",
    "        \"Name\":\"Emillie\",\n",
    "        \"Surname\": \"Plummer\",\n",
    "        \"Age\": 17\n",
    "    }\n",
    "    ,{\n",
    "        \"Name\":\"Kourtney\",\n",
    "        \"Surname\": \"Pate\",\n",
    "        \"Age\": 30\n",
    "    }\n",
    "    ,{\n",
    "        \"Name\":\"Virgil\",\n",
    "        \"Surname\": \"Solomon\",\n",
    "        \"Age\": 40\n",
    "    }\n",
    "    ,{\n",
    "        \"Name\":\"Bobby\",\n",
    "        \"Surname\": \"Jordan\",\n",
    "        \"Age\":33\n",
    "    }\n",
    "    ,{\n",
    "        \"Name\":\"Alfie\",\n",
    "        \"Surname\":\"James Robson\",\n",
    "        \"Age\": 16\n",
    "    } \n",
    "    ,{\n",
    "        \"Name\":\"Isla\",\n",
    "        \"Surname\":\"Grace Tran\",\n",
    "        \"Age\": 64\n",
    "    } \n",
    "    ,{\n",
    "        \"Name\":\"Arif\",\n",
    "        \"Surname\": \"Rivas\",\n",
    "        \"Age\": 43\n",
    "    }\n",
    "    ,{\n",
    "        \"Name\":\"Zakaria\",\n",
    "        \"Surname\": \"Whitehead\",\n",
    "        \"Age\": 82\n",
    "    }\n",
    "    ,{\n",
    "        \"Name\":\"Casper\",\n",
    "        \"Surname\": \"Velasquez\",\n",
    "        \"Age\": 57\n",
    "    }\n",
    "    ,{\n",
    "        \"Name\":\"Caoimhe\",\n",
    "        \"Surname\": \"Ali\",\n",
    "        \"Age\": 34\n",
    "    }\n",
    "    ,{\n",
    "        \"Name\":\"Viola\",\n",
    "        \"Surname\": \"Shepherd\",\n",
    "        \"Age\": 18\n",
    "    }\n",
    "]"
   ]
  },
  {
   "cell_type": "code",
   "execution_count": null,
   "metadata": {},
   "outputs": [],
   "source": [
    "myUsers.update({\"FullName\":\"Müzeyyen Nur AKÇAY\"})\n",
    "myUsers"
   ]
  },
  {
   "cell_type": "markdown",
   "metadata": {},
   "source": [
    "4. Soru\n",
    "   \n",
    "   Kullanıcının girdiği string unique karakterleri ekrana yazdırınız."
   ]
  },
  {
   "cell_type": "code",
   "execution_count": null,
   "metadata": {},
   "outputs": [],
   "source": []
  },
  {
   "cell_type": "markdown",
   "metadata": {},
   "source": [
    "5. Soru\n",
    "\n",
    "   Verilen iki set için aşağıdaki işlemleri yapınız.\n",
    "\n",
    "   * İki sat arasındakı farkı ekrana yazdırınız.\n",
    "   * İki set içerisinde ortak olanları ekrana yazdırınız.\n",
    "   * İki seti birleştirip ekrana yazdırınız.\n",
    "   * İlk set içerisinde olmayıp iki set içerisinde olan değerleri ekrana yazdırınız.\n",
    "   * İkinci set içerisinde olmayıp ilk set içerisinde olan değerleri ekrana yazdırınız.\n",
    "\n",
    "\n",
    "   set1 = {True, False, 1, 2, 3, 4, 's', 'i', 's', 't', 'e'}\n",
    "   \n",
    "   set2 = {'r', 's', 'l', 'a', 'b', None, 6, 7, 8, 9}\n"
   ]
  },
  {
   "cell_type": "code",
   "execution_count": 1,
   "metadata": {},
   "outputs": [
    {
     "data": {
      "text/plain": [
       "{2, 3, 4, False, True, 'e', 'i', 't'}"
      ]
     },
     "execution_count": 1,
     "metadata": {},
     "output_type": "execute_result"
    }
   ],
   "source": [
    "# İki set arasındakı farkı ekrana yazdırınız.\n",
    "set1 = {True, False, 1, 2, 3, 4, 's', 'i', 's', 't', 'e'}\n",
    "set2 = {'r', 's', 'l', 'a', 'b', None, 6, 7, 8, 9}\n",
    "\n",
    "set3 = set1 - set2\n",
    "set3"
   ]
  },
  {
   "cell_type": "code",
   "execution_count": 2,
   "metadata": {},
   "outputs": [
    {
     "data": {
      "text/plain": [
       "{'s'}"
      ]
     },
     "execution_count": 2,
     "metadata": {},
     "output_type": "execute_result"
    }
   ],
   "source": [
    "# İki set içerisinde ortak olanları ekrana yazdırınız.\n",
    "set1 = {True, False, 1, 2, 3, 4, 's', 'i', 's', 't', 'e'}\n",
    "set2 = {'r', 's', 'l', 'a', 'b', None, 6, 7, 8, 9}\n",
    "\n",
    "set3 = set1 & set2\n",
    "set3"
   ]
  },
  {
   "cell_type": "code",
   "execution_count": 3,
   "metadata": {},
   "outputs": [
    {
     "data": {
      "text/plain": [
       "{2,\n",
       " 3,\n",
       " 4,\n",
       " 6,\n",
       " 7,\n",
       " 8,\n",
       " 9,\n",
       " False,\n",
       " None,\n",
       " True,\n",
       " 'a',\n",
       " 'b',\n",
       " 'e',\n",
       " 'i',\n",
       " 'l',\n",
       " 'r',\n",
       " 's',\n",
       " 't'}"
      ]
     },
     "execution_count": 3,
     "metadata": {},
     "output_type": "execute_result"
    }
   ],
   "source": [
    "# İki seti birleştirip ekrana yazdırınız.\n",
    "set1 = {True, False, 1, 2, 3, 4, 's', 'i', 's', 't', 'e'}\n",
    "set2 = {'r', 's', 'l', 'a', 'b', None, 6, 7, 8, 9}\n",
    "\n",
    "set3 = set1 | set2\n",
    "set3"
   ]
  },
  {
   "cell_type": "code",
   "execution_count": 4,
   "metadata": {},
   "outputs": [
    {
     "data": {
      "text/plain": [
       "{2, 3, 4, False, True, 'e', 'i', 's', 't'}"
      ]
     },
     "execution_count": 4,
     "metadata": {},
     "output_type": "execute_result"
    }
   ],
   "source": [
    "# İlk set içerisinde olmayıp iki set içerisinde olan değerleri ekrana yazdırınız.\n",
    "set1 = {True, False, 1, 2, 3, 4, 's', 'i', 's', 't', 'e'}\n",
    "set2 = {'r', 's', 'l', 'a', 'b', None, 6, 7, 8, 9}\n",
    "\n",
    "set3 = set1 - set2\n",
    "set1"
   ]
  },
  {
   "cell_type": "code",
   "execution_count": 5,
   "metadata": {},
   "outputs": [
    {
     "data": {
      "text/plain": [
       "{6, 7, 8, 9, None, 'a', 'b', 'l', 'r', 's'}"
      ]
     },
     "execution_count": 5,
     "metadata": {},
     "output_type": "execute_result"
    }
   ],
   "source": [
    "# İkinci set içerisinde olmayıp ilk set içerisinde olan değerleri ekrana yazdırınız.\n",
    "set1 = {True, False, 1, 2, 3, 4, 's', 'i', 's', 't', 'e'}\n",
    "set2 = {'r', 's', 'l', 'a', 'b', None, 6, 7, 8, 9}\n",
    "\n",
    "set3 = set1 - set2\n",
    "set2"
   ]
  },
  {
   "cell_type": "markdown",
   "metadata": {},
   "source": [
    "6. Soru\n",
    "\n",
    "   Kullanıcıdan alınan string ifadedeki karakterlerin kaç kere tekrar ettiğini tutan dictionary oluşturunuz.\n",
    "\n",
    "   Örnek: {'s': 3, 'r': 1, 'e': 1, 'l': 1, 'b': 1, 't': 1, 'a': 1, 'i': 1}"
   ]
  },
  {
   "cell_type": "markdown",
   "metadata": {},
   "source": []
  },
  {
   "cell_type": "markdown",
   "metadata": {},
   "source": []
  },
  {
   "cell_type": "markdown",
   "metadata": {},
   "source": []
  },
  {
   "cell_type": "markdown",
   "metadata": {},
   "source": []
  },
  {
   "cell_type": "markdown",
   "metadata": {},
   "source": []
  },
  {
   "cell_type": "markdown",
   "metadata": {},
   "source": []
  },
  {
   "cell_type": "markdown",
   "metadata": {},
   "source": []
  },
  {
   "cell_type": "markdown",
   "metadata": {},
   "source": []
  },
  {
   "cell_type": "markdown",
   "metadata": {},
   "source": []
  },
  {
   "cell_type": "markdown",
   "metadata": {},
   "source": []
  },
  {
   "cell_type": "markdown",
   "metadata": {},
   "source": []
  },
  {
   "cell_type": "markdown",
   "metadata": {},
   "source": []
  }
 ],
 "metadata": {
  "kernelspec": {
   "display_name": "Python 3.9.5 64-bit",
   "language": "python",
   "name": "python3"
  },
  "language_info": {
   "codemirror_mode": {
    "name": "ipython",
    "version": 3
   },
   "file_extension": ".py",
   "mimetype": "text/x-python",
   "name": "python",
   "nbconvert_exporter": "python",
   "pygments_lexer": "ipython3",
   "version": "3.9.5"
  },
  "orig_nbformat": 4,
  "vscode": {
   "interpreter": {
    "hash": "f6246b25e200e4c5124e3e61789ac81350562f0761bbcf92ad9e48654207659c"
   }
  }
 },
 "nbformat": 4,
 "nbformat_minor": 2
}
