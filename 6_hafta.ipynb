{
 "cells": [
  {
   "cell_type": "markdown",
   "metadata": {},
   "source": [
    "1. Soru\n",
    "\n",
    "   Kullanıcının girdiği ad, soyad ve yaş bilgilerini tutan bir dictionary oluşturunuz.\n",
    "\n",
    "* Kullanıcının ad değerini, büyük harfler ile güncelleyiniz.\n",
    "* Kullanıcının yaş değerine 2 ekleyiniz.\n",
    "* Dictionary' e kullanıcının en sevdiği rengi ekleyiniz key - value şeklinde ekleyiniz.\n",
    "* Kullanıcının adını ve soyadını kapsayan yeni bir key - value ekleyiniz.\n",
    "* Kullanıcının ad değerini dictionary' den kaldırınız."
   ]
  },
  {
   "cell_type": "code",
   "execution_count": null,
   "metadata": {},
   "outputs": [],
   "source": [
    "#Kullanıcının girdiği ad, soyad ve yaş bilgilerini tutan bir dictionary oluşturunuz.\n",
    "name = input(\"Adınızı Giriniz: \")\n",
    "surname = input(\"Soyadınızı Giriniz: \")\n",
    "age = int(input(\"Yaşınızı Giriniz: \"))\n",
    "\n",
    "admin = {\"name\":name, \"surname\":surname, \"age\":age}"
   ]
  },
  {
   "cell_type": "code",
   "execution_count": 4,
   "metadata": {},
   "outputs": [],
   "source": [
    "# Kullanıcının ad değerini, büyük harfler ile güncelleyiniz.\n",
    "admin[\"name\"] = admin[\"name\"].upper()"
   ]
  },
  {
   "cell_type": "code",
   "execution_count": 7,
   "metadata": {},
   "outputs": [],
   "source": [
    "#Kullanıcının yaş değerine 2 ekleyiniz.\n",
    "admin[\"age\"]+=2"
   ]
  },
  {
   "cell_type": "code",
   "execution_count": 6,
   "metadata": {},
   "outputs": [],
   "source": [
    "#Dictionary' e kullanıcının en sevdiği rengi ekleyiniz key - value şeklinde ekleyiniz.\n",
    "admin[\"renk\"] = input(\"En sevdiğiniz renk: \")"
   ]
  },
  {
   "cell_type": "code",
   "execution_count": 8,
   "metadata": {},
   "outputs": [],
   "source": [
    "#Kullanıcının adını ve soyadını kapsayan yeni bir key - value ekleyiniz.\n",
    "admin[\"First Last Name\"] = admin[\"name\"] + \" \" + admin[\"surname\"]"
   ]
  },
  {
   "cell_type": "code",
   "execution_count": 9,
   "metadata": {},
   "outputs": [],
   "source": [
    "#Kullanıcının ad değerini dictionary' den kaldırınız.\n",
    "del admin[\"name\"]"
   ]
  },
  {
   "cell_type": "markdown",
   "metadata": {},
   "source": [
    "2. Soru\n",
    "\n",
    "   Kullanıcının verdiği aralığa göre, key değerleri o anki sayi, value değerleri o anki sayının karesi olan bir dictionary oluşturunuz.\n",
    "\n",
    "   Örnek olarak; kullanıcı aralık olarak 2 ve 7 girmiş olsun. Bizden beklenen dictionary şu şekilde olmalıdır.\n",
    "\n",
    "   {2: 4, 3: 9, 4: 16, 5: 25, 6: 36, 7: 49}"
   ]
  },
  {
   "cell_type": "code",
   "execution_count": 12,
   "metadata": {},
   "outputs": [
    {
     "name": "stdout",
     "output_type": "stream",
     "text": [
      "{1: 1, 2: 4, 3: 9, 4: 16, 5: 25, 6: 36, 7: 49, 8: 64, 9: 81, 10: 100}\n"
     ]
    }
   ],
   "source": [
    "dictionary = {}\n",
    "start = int(input(\"Başlangıç sayısını giriniz: \"))\n",
    "end = int(input(\"Bitiş sayısını giriniz: \"))\n",
    "\n",
    "for i in range(start, end + 1):\n",
    "    dictionary[i] = i**2\n",
    "\n",
    "print(dictionary)"
   ]
  },
  {
   "cell_type": "markdown",
   "metadata": {},
   "source": [
    "3. Soru\n",
    "   \n",
    "   Aşağıda verilen liste ile istenilen işlemleri yapınız.\n",
    "\n",
    "   * Yaşı: 20' den büyük olanları ekrana yazdırınız.\n",
    "   * Adı: 'A' ile başlayanları ekrana yazdırınız.\n",
    "   * Soyadı: 'J' ile başlayanları ekrana yazdırınız.\n",
    "   * Adı 'C' ile soyadı 'A' ile başlayanları ekrana yazdırınız.\n",
    "   * Adının içinde 'A' harfi geçenleri ekrana yazdırınız.\n",
    "   * Yaşı tek sayı olanları ekrana yazdırınız.\n",
    "   * Kullanıcının yaşını, (kullanıcının yaşı + kullanıcının soyadı uzunluğu) şeklinde güncelleyiniz.\n",
    "   * Kullanıcının adını ve soyadını içeren FullName adında yeni bir key - value pair oluşturunuz."
   ]
  },
  {
   "cell_type": "code",
   "execution_count": null,
   "metadata": {},
   "outputs": [],
   "source": [
    "myUsers = [\n",
    "    {\n",
    "        \"Name\":\"Rosalind\",\n",
    "        \"Surname\": \"Rich\",\n",
    "        \"Age\": 23\n",
    "    }\n",
    "    ,{\n",
    "        \"Name\":\"Annika\",\n",
    "        \"Surname\": \"Keenan\",\n",
    "        \"Age\": 28\n",
    "    }\n",
    "    ,{\n",
    "        \"Name\":\"Emillie\",\n",
    "        \"Surname\": \"Plummer\",\n",
    "        \"Age\": 17\n",
    "    }\n",
    "    ,{\n",
    "        \"Name\":\"Kourtney\",\n",
    "        \"Surname\": \"Pate\",\n",
    "        \"Age\": 30\n",
    "    }\n",
    "    ,{\n",
    "        \"Name\":\"Virgil\",\n",
    "        \"Surname\": \"Solomon\",\n",
    "        \"Age\": 40\n",
    "    }\n",
    "    ,{\n",
    "        \"Name\":\"Bobby\",\n",
    "        \"Surname\": \"Jordan\",\n",
    "        \"Age\":33\n",
    "    }\n",
    "    ,{\n",
    "        \"Name\":\"Alfie\",\n",
    "        \"Surname\":\"James Robson\",\n",
    "        \"Age\": 16\n",
    "    } \n",
    "    ,{\n",
    "        \"Name\":\"Isla\",\n",
    "        \"Surname\":\"Grace Tran\",\n",
    "        \"Age\": 64\n",
    "    } \n",
    "    ,{\n",
    "        \"Name\":\"Arif\",\n",
    "        \"Surname\": \"Rivas\",\n",
    "        \"Age\": 43\n",
    "    }\n",
    "    ,{\n",
    "        \"Name\":\"Zakaria\",\n",
    "        \"Surname\": \"Whitehead\",\n",
    "        \"Age\": 82\n",
    "    }\n",
    "    ,{\n",
    "        \"Name\":\"Casper\",\n",
    "        \"Surname\": \"Velasquez\",\n",
    "        \"Age\": 57\n",
    "    }\n",
    "    ,{\n",
    "        \"Name\":\"Caoimhe\",\n",
    "        \"Surname\": \"Ali\",\n",
    "        \"Age\": 34\n",
    "    }\n",
    "    ,{\n",
    "        \"Name\":\"Viola\",\n",
    "        \"Surname\": \"Shepherd\",\n",
    "        \"Age\": 18\n",
    "    }\n",
    "]"
   ]
  },
  {
   "cell_type": "code",
   "execution_count": null,
   "metadata": {},
   "outputs": [],
   "source": [
    "#Yaşı 20' den büyük olanları ekrana yazdırınız.\n",
    "print(list(filter(lambda userDict:userDict[\"age\"] > 20, myUsers)))"
   ]
  },
  {
   "cell_type": "code",
   "execution_count": null,
   "metadata": {},
   "outputs": [],
   "source": [
    "#Yaşı 20' den büyük olanları ekrana yazdırınız.\n",
    "for user in myUsers:\n",
    "    if user[\"Age\"] > 20:\n",
    "        print(user)"
   ]
  },
  {
   "cell_type": "code",
   "execution_count": null,
   "metadata": {},
   "outputs": [],
   "source": [
    "#Adı: 'A' ile başlayanları ekrana yazdırınız.\n",
    "print(list(filter(lambda userDict:userDict[\"Name\"][0].lower() == \"a\", myUsers)))"
   ]
  },
  {
   "cell_type": "code",
   "execution_count": null,
   "metadata": {},
   "outputs": [],
   "source": [
    "#Adı: 'A' ile başlayanları ekrana yazdırınız.\n",
    "for user in myUsers:\n",
    "    if user[\"Name\"].startswith(\"A\"):\n",
    "        print(user)"
   ]
  },
  {
   "cell_type": "code",
   "execution_count": null,
   "metadata": {},
   "outputs": [],
   "source": [
    "# Soyadı: 'J' ile başlayanları ekrana yazdırınız.\n",
    "print(list(filter(lambda userDict:userDict[\"Surname\"][0].lower() == \"j\", myUsers)))"
   ]
  },
  {
   "cell_type": "code",
   "execution_count": null,
   "metadata": {},
   "outputs": [],
   "source": [
    "# Soyadı: 'J' ile başlayanları ekrana yazdırınız.\n",
    "\n",
    "for user in myUsers:\n",
    "    if user[\"Name\"].startswith(\"J\"):\n",
    "        print(user)"
   ]
  },
  {
   "cell_type": "code",
   "execution_count": null,
   "metadata": {},
   "outputs": [],
   "source": [
    "# Adı 'C' ile soyadı 'A' ile başlayanları ekrana yazdırınız.\n",
    "print(list(filter(lambda userDict:userDict[\"Name\"][0].lower() == \"c\" and userDict[\"Surname\"][0].lower() == 'a', myUsers)))"
   ]
  },
  {
   "cell_type": "code",
   "execution_count": null,
   "metadata": {},
   "outputs": [],
   "source": [
    "# Adı 'C' ile soyadı 'A' ile başlayanları ekrana yazdırınız.\n",
    "for user in myUsers:\n",
    "    if user[\"Name\"].startswith(\"C\") and user[\"Surname\"].startswith(\"A\"):\n",
    "        print(user)"
   ]
  },
  {
   "cell_type": "code",
   "execution_count": null,
   "metadata": {},
   "outputs": [],
   "source": [
    "#Adının içinde 'A' harfi geçenleri ekrana yazdırınız.\n",
    "print(list(filter(lambda userDict:\"a\" in userDict[\"Name\"].lower(), myUsers)))"
   ]
  },
  {
   "cell_type": "code",
   "execution_count": null,
   "metadata": {},
   "outputs": [],
   "source": [
    "#Adının içinde 'A' harfi geçenleri ekrana yazdırınız.\n",
    "for user in myUsers:\n",
    "    if \"A\" and \"a\" in user[\"Name\"]:\n",
    "        print(user)"
   ]
  },
  {
   "cell_type": "code",
   "execution_count": null,
   "metadata": {},
   "outputs": [],
   "source": [
    "# Yaşı tek sayı olanları ekrana yazdırınız.\n",
    "print(list(filter(lambda userDict:userDict[\"Age\"] %2 == 1, myUsers)))"
   ]
  },
  {
   "cell_type": "code",
   "execution_count": null,
   "metadata": {},
   "outputs": [],
   "source": [
    "# Yaşı tek sayı olanları ekrana yazdırınız.\n",
    "for user in myUsers:\n",
    "    if user[\"Age\"] % 2 == 1:\n",
    "        print(user)"
   ]
  },
  {
   "cell_type": "code",
   "execution_count": null,
   "metadata": {},
   "outputs": [],
   "source": [
    "#Kullanıcının yaşını, (kullanıcının yaşı + kullanıcının soyadı uzunluğu) şeklinde güncelleyiniz.\n",
    "myUsers = list(map(lambda userDict: {\"Name\": userDict[\"Name\"], \"Surname\": userDict[\"Surname\"], \"Age\": userDict[\"Age\"] + len(userDict[\"Surname\"])}, myUsers))\n",
    "print(myUsers)"
   ]
  },
  {
   "cell_type": "code",
   "execution_count": null,
   "metadata": {},
   "outputs": [],
   "source": [
    "#Kullanıcının yaşını, (kullanıcının yaşı + kullanıcının soyadı uzunluğu) şeklinde güncelleyiniz.\n",
    "print(list(map(lambda person: {\"Name\": person[\"Name\"],\"Surname\": person[\"Surname\"],\"Age\": person[\"Age\"] + len(person[\"Surname\"])}, myUsers)))"
   ]
  },
  {
   "cell_type": "code",
   "execution_count": null,
   "metadata": {},
   "outputs": [],
   "source": [
    "#Kullanıcının adını ve soyadını içeren FullName adında yeni bir key - value pair oluşturunuz.\n",
    "myUsers = list(map(lambda userDict: {\"Name\": userDict[\"Name\"], \"Surname\": userDict[\"Surname\"], \"Age\": userDict[\"Age\"], \"FullName\":userDict[\"Name\"]+ \" \" + userDict[\"Surname\"]},myUsers))\n",
    "print(myUsers)"
   ]
  },
  {
   "cell_type": "code",
   "execution_count": 11,
   "metadata": {},
   "outputs": [
    {
     "ename": "NameError",
     "evalue": "name 'myUsers' is not defined",
     "output_type": "error",
     "traceback": [
      "\u001b[1;31m---------------------------------------------------------------------------\u001b[0m",
      "\u001b[1;31mNameError\u001b[0m                                 Traceback (most recent call last)",
      "Cell \u001b[1;32mIn [11], line 3\u001b[0m\n\u001b[0;32m      1\u001b[0m \u001b[39m#  7 ve 8. Soru\u001b[39;00m\n\u001b[1;32m----> 3\u001b[0m \u001b[39mfor\u001b[39;00m user \u001b[39min\u001b[39;00m myUsers:\n\u001b[0;32m      4\u001b[0m     user[\u001b[39m\"\u001b[39m\u001b[39mAge\u001b[39m\u001b[39m\"\u001b[39m] \u001b[39m=\u001b[39m user[\u001b[39m\"\u001b[39m\u001b[39mAge\u001b[39m\u001b[39m\"\u001b[39m] \u001b[39m+\u001b[39m \u001b[39mlen\u001b[39m(user[\u001b[39m\"\u001b[39m\u001b[39mSurname\u001b[39m\u001b[39m\"\u001b[39m])\n\u001b[0;32m      5\u001b[0m     user[\u001b[39m\"\u001b[39m\u001b[39mFullName\u001b[39m\u001b[39m\"\u001b[39m] \u001b[39m=\u001b[39m user[\u001b[39m\"\u001b[39m\u001b[39mName\u001b[39m\u001b[39m\"\u001b[39m] \u001b[39m+\u001b[39m \u001b[39m\"\u001b[39m\u001b[39m \u001b[39m\u001b[39m\"\u001b[39m \u001b[39m+\u001b[39m user[\u001b[39m\"\u001b[39m\u001b[39mSurname\u001b[39m\u001b[39m\"\u001b[39m]\n",
      "\u001b[1;31mNameError\u001b[0m: name 'myUsers' is not defined"
     ]
    }
   ],
   "source": [
    "#  7 ve 8. Soru\n",
    "\n",
    "for user in myUsers:\n",
    "    user[\"Age\"] = user[\"Age\"] + len(user[\"Surname\"])\n",
    "    user[\"FullName\"] = user[\"Name\"] + \" \" + user[\"Surname\"]\n",
    "    print(user)"
   ]
  },
  {
   "cell_type": "markdown",
   "metadata": {},
   "source": [
    "4. Soru\n",
    "   \n",
    "   Kullanıcının girdiği string unique karakterleri ekrana yazdırınız."
   ]
  },
  {
   "cell_type": "code",
   "execution_count": 10,
   "metadata": {},
   "outputs": [
    {
     "name": "stdout",
     "output_type": "stream",
     "text": [
      "nur"
     ]
    }
   ],
   "source": [
    "x = input(\"Kullanıcı ismi giriniz:\")\n",
    "\n",
    "short_user_name = []\n",
    "for i in x:\n",
    "    if i in short_user_name:\n",
    "        continue\n",
    "    else:\n",
    "        short_user_name.append(i)\n",
    "\n",
    "for j in short_user_name:\n",
    "    print(j, end = \"\")"
   ]
  },
  {
   "cell_type": "code",
   "execution_count": 8,
   "metadata": {},
   "outputs": [
    {
     "name": "stdout",
     "output_type": "stream",
     "text": [
      "{'n', 'u', 'r'}\n"
     ]
    }
   ],
   "source": [
    "userInput = input()\n",
    "print(set(userInput))"
   ]
  },
  {
   "cell_type": "markdown",
   "metadata": {},
   "source": [
    "5. Soru\n",
    "\n",
    "   Verilen iki set için aşağıdaki işlemleri yapınız.\n",
    "\n",
    "   * İki sat arasındakı farkı ekrana yazdırınız.\n",
    "   * İki set içerisinde ortak olanları ekrana yazdırınız.\n",
    "   * İki seti birleştirip ekrana yazdırınız.\n",
    "   * İlk set içerisinde olmayıp iki set içerisinde olan değerleri ekrana yazdırınız.\n",
    "   * İkinci set içerisinde olmayıp ilk set içerisinde olan değerleri ekrana yazdırınız.\n",
    "\n",
    "\n",
    "   set1 = {True, False, 1, 2, 3, 4, 's', 'i', 's', 't', 'e'}\n",
    "   \n",
    "   set2 = {'r', 's', 'l', 'a', 'b', None, 6, 7, 8, 9}\n"
   ]
  },
  {
   "cell_type": "code",
   "execution_count": 1,
   "metadata": {},
   "outputs": [
    {
     "data": {
      "text/plain": [
       "{2, 3, 4, False, True, 'e', 'i', 't'}"
      ]
     },
     "execution_count": 1,
     "metadata": {},
     "output_type": "execute_result"
    }
   ],
   "source": [
    "# İki set arasındakı farkı ekrana yazdırınız.\n",
    "set1 = {True, False, 1, 2, 3, 4, 's', 'i', 's', 't', 'e'}\n",
    "set2 = {'r', 's', 'l', 'a', 'b', None, 6, 7, 8, 9}\n",
    "\n",
    "set3 = set1 - set2\n",
    "set3"
   ]
  },
  {
   "cell_type": "code",
   "execution_count": 2,
   "metadata": {},
   "outputs": [
    {
     "data": {
      "text/plain": [
       "{'s'}"
      ]
     },
     "execution_count": 2,
     "metadata": {},
     "output_type": "execute_result"
    }
   ],
   "source": [
    "# İki set içerisinde ortak olanları ekrana yazdırınız.\n",
    "set1 = {True, False, 1, 2, 3, 4, 's', 'i', 's', 't', 'e'}\n",
    "set2 = {'r', 's', 'l', 'a', 'b', None, 6, 7, 8, 9}\n",
    "\n",
    "set3 = set1 & set2\n",
    "set3"
   ]
  },
  {
   "cell_type": "code",
   "execution_count": 3,
   "metadata": {},
   "outputs": [
    {
     "data": {
      "text/plain": [
       "{2,\n",
       " 3,\n",
       " 4,\n",
       " 6,\n",
       " 7,\n",
       " 8,\n",
       " 9,\n",
       " False,\n",
       " None,\n",
       " True,\n",
       " 'a',\n",
       " 'b',\n",
       " 'e',\n",
       " 'i',\n",
       " 'l',\n",
       " 'r',\n",
       " 's',\n",
       " 't'}"
      ]
     },
     "execution_count": 3,
     "metadata": {},
     "output_type": "execute_result"
    }
   ],
   "source": [
    "# İki seti birleştirip ekrana yazdırınız.\n",
    "set1 = {True, False, 1, 2, 3, 4, 's', 'i', 's', 't', 'e'}\n",
    "set2 = {'r', 's', 'l', 'a', 'b', None, 6, 7, 8, 9}\n",
    "\n",
    "set3 = set1 | set2\n",
    "set3"
   ]
  },
  {
   "cell_type": "code",
   "execution_count": 4,
   "metadata": {},
   "outputs": [
    {
     "data": {
      "text/plain": [
       "{2, 3, 4, False, True, 'e', 'i', 's', 't'}"
      ]
     },
     "execution_count": 4,
     "metadata": {},
     "output_type": "execute_result"
    }
   ],
   "source": [
    "# İlk set içerisinde olmayıp iki set içerisinde olan değerleri ekrana yazdırınız.\n",
    "set1 = {True, False, 1, 2, 3, 4, 's', 'i', 's', 't', 'e'}\n",
    "set2 = {'r', 's', 'l', 'a', 'b', None, 6, 7, 8, 9}\n",
    "\n",
    "set3 = set1 - set2\n",
    "set1"
   ]
  },
  {
   "cell_type": "code",
   "execution_count": 5,
   "metadata": {},
   "outputs": [
    {
     "data": {
      "text/plain": [
       "{6, 7, 8, 9, None, 'a', 'b', 'l', 'r', 's'}"
      ]
     },
     "execution_count": 5,
     "metadata": {},
     "output_type": "execute_result"
    }
   ],
   "source": [
    "# İkinci set içerisinde olmayıp ilk set içerisinde olan değerleri ekrana yazdırınız.\n",
    "set1 = {True, False, 1, 2, 3, 4, 's', 'i', 's', 't', 'e'}\n",
    "set2 = {'r', 's', 'l', 'a', 'b', None, 6, 7, 8, 9}\n",
    "\n",
    "set3 = set1 - set2\n",
    "set2"
   ]
  },
  {
   "cell_type": "markdown",
   "metadata": {},
   "source": [
    "6. Soru\n",
    "\n",
    "   Kullanıcıdan alınan string ifadedeki karakterlerin kaç kere tekrar ettiğini tutan dictionary oluşturunuz.\n",
    "\n",
    "   Örnek: {'s': 3, 'r': 1, 'e': 1, 'l': 1, 'b': 1, 't': 1, 'a': 1, 'i': 1}"
   ]
  }
 ],
 "metadata": {
  "kernelspec": {
   "display_name": "Python 3.10.8 64-bit (microsoft store)",
   "language": "python",
   "name": "python3"
  },
  "language_info": {
   "codemirror_mode": {
    "name": "ipython",
    "version": 3
   },
   "file_extension": ".py",
   "mimetype": "text/x-python",
   "name": "python",
   "nbconvert_exporter": "python",
   "pygments_lexer": "ipython3",
   "version": "3.10.8"
  },
  "orig_nbformat": 4,
  "vscode": {
   "interpreter": {
    "hash": "75328cd36868a46990b96b50a3e79d16599f753ed0672728bccd76ddc954032c"
   }
  }
 },
 "nbformat": 4,
 "nbformat_minor": 2
}
