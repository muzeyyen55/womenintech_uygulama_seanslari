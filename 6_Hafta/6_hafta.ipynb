{
 "cells": [
  {
   "cell_type": "markdown",
   "metadata": {},
   "source": [
    "**1. Soru**\n",
    "\n",
    "   Kullanıcının girdiği ad, soyad ve yaş bilgilerini tutan bir dictionary oluşturunuz.\n",
    "\n",
    "* Kullanıcının ad değerini, büyük harfler ile güncelleyiniz.\n",
    "* Kullanıcının yaş değerine 2 ekleyiniz.\n",
    "* Dictionary' e kullanıcının en sevdiği rengi ekleyiniz key - value şeklinde ekleyiniz.\n",
    "* Kullanıcının adını ve soyadını kapsayan yeni bir key - value ekleyiniz.\n",
    "* Kullanıcının ad değerini dictionary' den kaldırınız."
   ]
  },
  {
   "cell_type": "code",
   "execution_count": 1,
   "metadata": {},
   "outputs": [],
   "source": [
    "#Kullanıcının girdiği ad, soyad ve yaş bilgilerini tutan bir dictionary oluşturunuz.\n",
    "name = input(\"Adınızı Giriniz: \")\n",
    "surname = input(\"Soyadınızı Giriniz: \")\n",
    "age = int(input(\"Yaşınızı Giriniz: \"))\n",
    "\n",
    "admin = {\"name\":name, \"surname\":surname, \"age\":age}"
   ]
  },
  {
   "cell_type": "code",
   "execution_count": 2,
   "metadata": {},
   "outputs": [],
   "source": [
    "#Kullanıcının ad değerini, büyük harfler ile güncelleyiniz.\n",
    "admin[\"name\"] = admin[\"name\"].upper()"
   ]
  },
  {
   "cell_type": "code",
   "execution_count": 3,
   "metadata": {},
   "outputs": [],
   "source": [
    "#Kullanıcının yaş değerine 2 ekleyiniz.\n",
    "admin[\"age\"]+=2"
   ]
  },
  {
   "cell_type": "code",
   "execution_count": 4,
   "metadata": {},
   "outputs": [],
   "source": [
    "#Dictionary' e kullanıcının en sevdiği rengi ekleyiniz key - value şeklinde ekleyiniz.\n",
    "admin[\"renk\"] = input(\"En sevdiğiniz renk: \")"
   ]
  },
  {
   "cell_type": "code",
   "execution_count": 5,
   "metadata": {},
   "outputs": [],
   "source": [
    "#Kullanıcının adını ve soyadını kapsayan yeni bir key - value ekleyiniz.\n",
    "admin[\"First Last Name\"] = admin[\"name\"] + \" \" + admin[\"surname\"]"
   ]
  },
  {
   "cell_type": "code",
   "execution_count": 6,
   "metadata": {},
   "outputs": [],
   "source": [
    "#Kullanıcının ad değerini dictionary' den kaldırınız.\n",
    "del admin[\"name\"]"
   ]
  },
  {
   "cell_type": "markdown",
   "metadata": {},
   "source": [
    "**2. Soru**\n",
    "\n",
    "   Kullanıcının verdiği aralığa göre, key değerleri o anki sayi, value değerleri o anki sayının karesi olan bir dictionary oluşturunuz.\n",
    "\n",
    "   Örnek olarak; kullanıcı aralık olarak 2 ve 7 girmiş olsun. Bizden beklenen dictionary şu şekilde olmalıdır.\n",
    "\n",
    "   {2: 4, 3: 9, 4: 16, 5: 25, 6: 36, 7: 49}"
   ]
  },
  {
   "cell_type": "code",
   "execution_count": 12,
   "metadata": {},
   "outputs": [
    {
     "name": "stdout",
     "output_type": "stream",
     "text": [
      "{1: 1, 2: 4, 3: 9, 4: 16, 5: 25, 6: 36, 7: 49, 8: 64, 9: 81, 10: 100}\n"
     ]
    }
   ],
   "source": [
    "dictionary = {}\n",
    "start = int(input(\"Başlangıç sayısını giriniz: \"))\n",
    "end = int(input(\"Bitiş sayısını giriniz: \"))\n",
    "\n",
    "for i in range(start, end + 1):\n",
    "    dictionary[i] = i**2\n",
    "\n",
    "print(dictionary)"
   ]
  },
  {
   "cell_type": "markdown",
   "metadata": {},
   "source": [
    "**3. Soru**\n",
    "   \n",
    "   Aşağıda verilen liste ile istenilen işlemleri yapınız.\n",
    "\n",
    "   * Yaşı: 20' den büyük olanları ekrana yazdırınız.\n",
    "   * Adı: 'A' ile başlayanları ekrana yazdırınız.\n",
    "   * Soyadı: 'J' ile başlayanları ekrana yazdırınız.\n",
    "   * Adı 'C' ile soyadı 'A' ile başlayanları ekrana yazdırınız.\n",
    "   * Adının içinde 'A' harfi geçenleri ekrana yazdırınız.\n",
    "   * Yaşı tek sayı olanları ekrana yazdırınız.\n",
    "   * Kullanıcının yaşını, (kullanıcının yaşı + kullanıcının soyadı uzunluğu) şeklinde güncelleyiniz.\n",
    "   * Kullanıcının adını ve soyadını içeren FullName adında yeni bir key - value pair oluşturunuz."
   ]
  },
  {
   "cell_type": "code",
   "execution_count": null,
   "metadata": {},
   "outputs": [],
   "source": [
    "myUsers = [\n",
    "    {\n",
    "        \"Name\":\"Rosalind\",\n",
    "        \"Surname\": \"Rich\",\n",
    "        \"Age\": 23\n",
    "    }\n",
    "    ,{\n",
    "        \"Name\":\"Annika\",\n",
    "        \"Surname\": \"Keenan\",\n",
    "        \"Age\": 28\n",
    "    }\n",
    "    ,{\n",
    "        \"Name\":\"Emillie\",\n",
    "        \"Surname\": \"Plummer\",\n",
    "        \"Age\": 17\n",
    "    }\n",
    "    ,{\n",
    "        \"Name\":\"Kourtney\",\n",
    "        \"Surname\": \"Pate\",\n",
    "        \"Age\": 30\n",
    "    }\n",
    "    ,{\n",
    "        \"Name\":\"Virgil\",\n",
    "        \"Surname\": \"Solomon\",\n",
    "        \"Age\": 40\n",
    "    }\n",
    "    ,{\n",
    "        \"Name\":\"Bobby\",\n",
    "        \"Surname\": \"Jordan\",\n",
    "        \"Age\":33\n",
    "    }\n",
    "    ,{\n",
    "        \"Name\":\"Alfie\",\n",
    "        \"Surname\":\"James Robson\",\n",
    "        \"Age\": 16\n",
    "    } \n",
    "    ,{\n",
    "        \"Name\":\"Isla\",\n",
    "        \"Surname\":\"Grace Tran\",\n",
    "        \"Age\": 64\n",
    "    } \n",
    "    ,{\n",
    "        \"Name\":\"Arif\",\n",
    "        \"Surname\": \"Rivas\",\n",
    "        \"Age\": 43\n",
    "    }\n",
    "    ,{\n",
    "        \"Name\":\"Zakaria\",\n",
    "        \"Surname\": \"Whitehead\",\n",
    "        \"Age\": 82\n",
    "    }\n",
    "    ,{\n",
    "        \"Name\":\"Casper\",\n",
    "        \"Surname\": \"Velasquez\",\n",
    "        \"Age\": 57\n",
    "    }\n",
    "    ,{\n",
    "        \"Name\":\"Caoimhe\",\n",
    "        \"Surname\": \"Ali\",\n",
    "        \"Age\": 34\n",
    "    }\n",
    "    ,{\n",
    "        \"Name\":\"Viola\",\n",
    "        \"Surname\": \"Shepherd\",\n",
    "        \"Age\": 18\n",
    "    }\n",
    "]"
   ]
  },
  {
   "cell_type": "code",
   "execution_count": 24,
   "metadata": {},
   "outputs": [
    {
     "name": "stdout",
     "output_type": "stream",
     "text": [
      "------- 1. Çözüm -------\n",
      "[{'Name': 'Rosalind', 'Surname': 'Rich', 'Age': 23}, {'Name': 'Annika', 'Surname': 'Keenan', 'Age': 28}, {'Name': 'Kourtney', 'Surname': 'Pate', 'Age': 30}, {'Name': 'Virgil', 'Surname': 'Solomon', 'Age': 40}, {'Name': 'Bobby', 'Surname': 'Jordan', 'Age': 33}, {'Name': 'Isla', 'Surname': 'Grace Tran', 'Age': 64}, {'Name': 'Arif', 'Surname': 'Rivas', 'Age': 43}, {'Name': 'Zakaria', 'Surname': 'Whitehead', 'Age': 82}, {'Name': 'Casper', 'Surname': 'Velasquez', 'Age': 57}, {'Name': 'Caoimhe', 'Surname': 'Ali', 'Age': 34}]\n",
      "\n",
      "------- 2. Çözüm -------\n",
      "{'Name': 'Rosalind', 'Surname': 'Rich', 'Age': 23}\n",
      "{'Name': 'Annika', 'Surname': 'Keenan', 'Age': 28}\n",
      "{'Name': 'Kourtney', 'Surname': 'Pate', 'Age': 30}\n",
      "{'Name': 'Virgil', 'Surname': 'Solomon', 'Age': 40}\n",
      "{'Name': 'Bobby', 'Surname': 'Jordan', 'Age': 33}\n",
      "{'Name': 'Isla', 'Surname': 'Grace Tran', 'Age': 64}\n",
      "{'Name': 'Arif', 'Surname': 'Rivas', 'Age': 43}\n",
      "{'Name': 'Zakaria', 'Surname': 'Whitehead', 'Age': 82}\n",
      "{'Name': 'Casper', 'Surname': 'Velasquez', 'Age': 57}\n",
      "{'Name': 'Caoimhe', 'Surname': 'Ali', 'Age': 34}\n"
     ]
    }
   ],
   "source": [
    "#Yaşı 20' den büyük olanları ekrana yazdırınız.\n",
    "print(\"------- 1. Çözüm -------\")\n",
    "print(list(filter(lambda userDict:userDict[\"Age\"] > 20, myUsers)))\n",
    "\n",
    "print()\n",
    "print(\"------- 2. Çözüm -------\")\n",
    "for user in myUsers:\n",
    "    if user[\"Age\"] > 20:\n",
    "        print(user)"
   ]
  },
  {
   "cell_type": "code",
   "execution_count": 30,
   "metadata": {},
   "outputs": [
    {
     "name": "stdout",
     "output_type": "stream",
     "text": [
      "------- 1. Çözüm -------\n",
      "[{'Name': 'Annika', 'Surname': 'Keenan', 'Age': 28}, {'Name': 'Alfie', 'Surname': 'James Robson', 'Age': 16}, {'Name': 'Arif', 'Surname': 'Rivas', 'Age': 43}]\n",
      "\n",
      "------- 2. Çözüm -------\n",
      "{'Name': 'Annika', 'Surname': 'Keenan', 'Age': 28}\n",
      "{'Name': 'Alfie', 'Surname': 'James Robson', 'Age': 16}\n",
      "{'Name': 'Arif', 'Surname': 'Rivas', 'Age': 43}\n"
     ]
    }
   ],
   "source": [
    "#Adı: 'A' ile başlayanları ekrana yazdırınız.\n",
    "print(list(filter(lambda userDict:userDict[\"Name\"][0].lower() == \"a\", myUsers)))\n",
    "print()\n",
    "\n",
    "print(\"------- 2. Çözüm -------\")\n",
    "for user in myUsers:\n",
    "    if user[\"Name\"].startswith(\"A\"):\n",
    "        print(user)"
   ]
  },
  {
   "cell_type": "code",
   "execution_count": 28,
   "metadata": {},
   "outputs": [
    {
     "name": "stdout",
     "output_type": "stream",
     "text": [
      "[{'Name': 'Bobby', 'Surname': 'Jordan', 'Age': 33}, {'Name': 'Alfie', 'Surname': 'James Robson', 'Age': 16}]\n"
     ]
    }
   ],
   "source": [
    "# Soyadı: 'J' ile başlayanları ekrana yazdırınız.\n",
    "print(list(filter(lambda userDict:userDict[\"Surname\"][0].lower() == \"j\", myUsers)))"
   ]
  },
  {
   "cell_type": "code",
   "execution_count": 31,
   "metadata": {},
   "outputs": [
    {
     "name": "stdout",
     "output_type": "stream",
     "text": [
      "------- 1. Çözüm -------\n",
      "[{'Name': 'Caoimhe', 'Surname': 'Ali', 'Age': 34}]\n",
      "\n",
      "------- 2. Çözüm -------\n",
      "{'Name': 'Caoimhe', 'Surname': 'Ali', 'Age': 34}\n"
     ]
    }
   ],
   "source": [
    "# Adı 'C' ile soyadı 'A' ile başlayanları ekrana yazdırınız.\n",
    "print(\"------- 1. Çözüm -------\")\n",
    "print(list(filter(lambda userDict:userDict[\"Name\"][0].lower() == \"c\" and userDict[\"Surname\"][0].lower() == 'a', myUsers)))\n",
    "print()\n",
    "\n",
    "print(\"------- 2. Çözüm -------\")\n",
    "for user in myUsers:\n",
    "    if user[\"Name\"].startswith(\"C\") and user[\"Surname\"].startswith(\"A\"):\n",
    "        print(user)"
   ]
  },
  {
   "cell_type": "code",
   "execution_count": 32,
   "metadata": {},
   "outputs": [
    {
     "name": "stdout",
     "output_type": "stream",
     "text": [
      "------- 1. Çözüm -------\n",
      "[{'Name': 'Rosalind', 'Surname': 'Rich', 'Age': 23}, {'Name': 'Annika', 'Surname': 'Keenan', 'Age': 28}, {'Name': 'Alfie', 'Surname': 'James Robson', 'Age': 16}, {'Name': 'Isla', 'Surname': 'Grace Tran', 'Age': 64}, {'Name': 'Arif', 'Surname': 'Rivas', 'Age': 43}, {'Name': 'Zakaria', 'Surname': 'Whitehead', 'Age': 82}, {'Name': 'Casper', 'Surname': 'Velasquez', 'Age': 57}, {'Name': 'Caoimhe', 'Surname': 'Ali', 'Age': 34}, {'Name': 'Viola', 'Surname': 'Shepherd', 'Age': 18}]\n",
      "\n",
      "------- 2. Çözüm -------\n",
      "{'Name': 'Rosalind', 'Surname': 'Rich', 'Age': 23}\n",
      "{'Name': 'Annika', 'Surname': 'Keenan', 'Age': 28}\n",
      "{'Name': 'Isla', 'Surname': 'Grace Tran', 'Age': 64}\n",
      "{'Name': 'Zakaria', 'Surname': 'Whitehead', 'Age': 82}\n",
      "{'Name': 'Casper', 'Surname': 'Velasquez', 'Age': 57}\n",
      "{'Name': 'Caoimhe', 'Surname': 'Ali', 'Age': 34}\n",
      "{'Name': 'Viola', 'Surname': 'Shepherd', 'Age': 18}\n"
     ]
    }
   ],
   "source": [
    "#Adının içinde 'A' harfi geçenleri ekrana yazdırınız.\n",
    "print(\"------- 1. Çözüm -------\")\n",
    "print(list(filter(lambda userDict:\"a\" in userDict[\"Name\"].lower(), myUsers)))\n",
    "print()\n",
    "\n",
    "print(\"------- 2. Çözüm -------\")\n",
    "for user in myUsers:\n",
    "    if \"A\" and \"a\" in user[\"Name\"]:\n",
    "        print(user)"
   ]
  },
  {
   "cell_type": "code",
   "execution_count": 33,
   "metadata": {},
   "outputs": [
    {
     "name": "stdout",
     "output_type": "stream",
     "text": [
      "------- 1. Çözüm -------\n",
      "[{'Name': 'Rosalind', 'Surname': 'Rich', 'Age': 23}, {'Name': 'Emillie', 'Surname': 'Plummer', 'Age': 17}, {'Name': 'Bobby', 'Surname': 'Jordan', 'Age': 33}, {'Name': 'Arif', 'Surname': 'Rivas', 'Age': 43}, {'Name': 'Casper', 'Surname': 'Velasquez', 'Age': 57}]\n",
      "\n",
      "------- 2. Çözüm -------\n",
      "{'Name': 'Rosalind', 'Surname': 'Rich', 'Age': 23}\n",
      "{'Name': 'Emillie', 'Surname': 'Plummer', 'Age': 17}\n",
      "{'Name': 'Bobby', 'Surname': 'Jordan', 'Age': 33}\n",
      "{'Name': 'Arif', 'Surname': 'Rivas', 'Age': 43}\n",
      "{'Name': 'Casper', 'Surname': 'Velasquez', 'Age': 57}\n"
     ]
    }
   ],
   "source": [
    "# Yaşı tek sayı olanları ekrana yazdırınız.\n",
    "print(\"------- 1. Çözüm -------\")\n",
    "print(list(filter(lambda userDict:userDict[\"Age\"] %2 == 1, myUsers)))\n",
    "print()\n",
    "\n",
    "print(\"------- 2. Çözüm -------\")\n",
    "for user in myUsers:\n",
    "    if user[\"Age\"] % 2 == 1:\n",
    "        print(user)"
   ]
  },
  {
   "cell_type": "code",
   "execution_count": 34,
   "metadata": {},
   "outputs": [
    {
     "name": "stdout",
     "output_type": "stream",
     "text": [
      "------- 1. Çözüm -------\n",
      "[{'Name': 'Rosalind', 'Surname': 'Rich', 'Age': 27}, {'Name': 'Annika', 'Surname': 'Keenan', 'Age': 34}, {'Name': 'Emillie', 'Surname': 'Plummer', 'Age': 24}, {'Name': 'Kourtney', 'Surname': 'Pate', 'Age': 34}, {'Name': 'Virgil', 'Surname': 'Solomon', 'Age': 47}, {'Name': 'Bobby', 'Surname': 'Jordan', 'Age': 39}, {'Name': 'Alfie', 'Surname': 'James Robson', 'Age': 28}, {'Name': 'Isla', 'Surname': 'Grace Tran', 'Age': 74}, {'Name': 'Arif', 'Surname': 'Rivas', 'Age': 48}, {'Name': 'Zakaria', 'Surname': 'Whitehead', 'Age': 91}, {'Name': 'Casper', 'Surname': 'Velasquez', 'Age': 66}, {'Name': 'Caoimhe', 'Surname': 'Ali', 'Age': 37}, {'Name': 'Viola', 'Surname': 'Shepherd', 'Age': 26}]\n",
      "\n",
      "------- 2. Çözüm -------\n",
      "[{'Name': 'Rosalind', 'Surname': 'Rich', 'Age': 27}, {'Name': 'Annika', 'Surname': 'Keenan', 'Age': 34}, {'Name': 'Emillie', 'Surname': 'Plummer', 'Age': 24}, {'Name': 'Kourtney', 'Surname': 'Pate', 'Age': 34}, {'Name': 'Virgil', 'Surname': 'Solomon', 'Age': 47}, {'Name': 'Bobby', 'Surname': 'Jordan', 'Age': 39}, {'Name': 'Alfie', 'Surname': 'James Robson', 'Age': 28}, {'Name': 'Isla', 'Surname': 'Grace Tran', 'Age': 74}, {'Name': 'Arif', 'Surname': 'Rivas', 'Age': 48}, {'Name': 'Zakaria', 'Surname': 'Whitehead', 'Age': 91}, {'Name': 'Casper', 'Surname': 'Velasquez', 'Age': 66}, {'Name': 'Caoimhe', 'Surname': 'Ali', 'Age': 37}, {'Name': 'Viola', 'Surname': 'Shepherd', 'Age': 26}]\n"
     ]
    }
   ],
   "source": [
    "#Kullanıcının yaşını, (kullanıcının yaşı + kullanıcının soyadı uzunluğu) şeklinde güncelleyiniz.\n",
    "print(\"------- 1. Çözüm -------\")\n",
    "myUsers = list(map(lambda userDict: {\"Name\": userDict[\"Name\"], \"Surname\": userDict[\"Surname\"], \"Age\": userDict[\"Age\"] + len(userDict[\"Surname\"])}, myUsers))\n",
    "print(myUsers)\n",
    "print()\n",
    "\n",
    "print(\"------- 2. Çözüm -------\")\n",
    "print(list(map(lambda person: {\"Name\": person[\"Name\"],\"Surname\": person[\"Surname\"],\"Age\": person[\"Age\"] + len(person[\"Surname\"])}, myUsers)))"
   ]
  },
  {
   "cell_type": "code",
   "execution_count": 35,
   "metadata": {},
   "outputs": [
    {
     "name": "stdout",
     "output_type": "stream",
     "text": [
      "[{'Name': 'Rosalind', 'Surname': 'Rich', 'Age': 23, 'FullName': 'Rosalind Rich'}, {'Name': 'Annika', 'Surname': 'Keenan', 'Age': 28, 'FullName': 'Annika Keenan'}, {'Name': 'Emillie', 'Surname': 'Plummer', 'Age': 17, 'FullName': 'Emillie Plummer'}, {'Name': 'Kourtney', 'Surname': 'Pate', 'Age': 30, 'FullName': 'Kourtney Pate'}, {'Name': 'Virgil', 'Surname': 'Solomon', 'Age': 40, 'FullName': 'Virgil Solomon'}, {'Name': 'Bobby', 'Surname': 'Jordan', 'Age': 33, 'FullName': 'Bobby Jordan'}, {'Name': 'Alfie', 'Surname': 'James Robson', 'Age': 16, 'FullName': 'Alfie James Robson'}, {'Name': 'Isla', 'Surname': 'Grace Tran', 'Age': 64, 'FullName': 'Isla Grace Tran'}, {'Name': 'Arif', 'Surname': 'Rivas', 'Age': 43, 'FullName': 'Arif Rivas'}, {'Name': 'Zakaria', 'Surname': 'Whitehead', 'Age': 82, 'FullName': 'Zakaria Whitehead'}, {'Name': 'Casper', 'Surname': 'Velasquez', 'Age': 57, 'FullName': 'Casper Velasquez'}, {'Name': 'Caoimhe', 'Surname': 'Ali', 'Age': 34, 'FullName': 'Caoimhe Ali'}, {'Name': 'Viola', 'Surname': 'Shepherd', 'Age': 18, 'FullName': 'Viola Shepherd'}]\n"
     ]
    }
   ],
   "source": [
    "#Kullanıcının adını ve soyadını içeren FullName adında yeni bir key - value pair oluşturunuz.\n",
    "myUsers = list(map(lambda userDict: {\"Name\": userDict[\"Name\"], \"Surname\": userDict[\"Surname\"], \"Age\": userDict[\"Age\"], \"FullName\":userDict[\"Name\"]+ \" \" + userDict[\"Surname\"]},myUsers))\n",
    "print(myUsers)"
   ]
  },
  {
   "cell_type": "code",
   "execution_count": 29,
   "metadata": {},
   "outputs": [
    {
     "name": "stdout",
     "output_type": "stream",
     "text": [
      "{'Name': 'Rosalind', 'Surname': 'Rich', 'Age': 27, 'FullName': 'Rosalind Rich'}\n",
      "{'Name': 'Annika', 'Surname': 'Keenan', 'Age': 34, 'FullName': 'Annika Keenan'}\n",
      "{'Name': 'Emillie', 'Surname': 'Plummer', 'Age': 24, 'FullName': 'Emillie Plummer'}\n",
      "{'Name': 'Kourtney', 'Surname': 'Pate', 'Age': 34, 'FullName': 'Kourtney Pate'}\n",
      "{'Name': 'Virgil', 'Surname': 'Solomon', 'Age': 47, 'FullName': 'Virgil Solomon'}\n",
      "{'Name': 'Bobby', 'Surname': 'Jordan', 'Age': 39, 'FullName': 'Bobby Jordan'}\n",
      "{'Name': 'Alfie', 'Surname': 'James Robson', 'Age': 28, 'FullName': 'Alfie James Robson'}\n",
      "{'Name': 'Isla', 'Surname': 'Grace Tran', 'Age': 74, 'FullName': 'Isla Grace Tran'}\n",
      "{'Name': 'Arif', 'Surname': 'Rivas', 'Age': 48, 'FullName': 'Arif Rivas'}\n",
      "{'Name': 'Zakaria', 'Surname': 'Whitehead', 'Age': 91, 'FullName': 'Zakaria Whitehead'}\n",
      "{'Name': 'Casper', 'Surname': 'Velasquez', 'Age': 66, 'FullName': 'Casper Velasquez'}\n",
      "{'Name': 'Caoimhe', 'Surname': 'Ali', 'Age': 37, 'FullName': 'Caoimhe Ali'}\n",
      "{'Name': 'Viola', 'Surname': 'Shepherd', 'Age': 26, 'FullName': 'Viola Shepherd'}\n"
     ]
    }
   ],
   "source": [
    "#  7 ve 8. Soru\n",
    "for user in myUsers:\n",
    "    user[\"Age\"] = user[\"Age\"] + len(user[\"Surname\"])\n",
    "    user[\"FullName\"] = user[\"Name\"] + \" \" + user[\"Surname\"]\n",
    "    print(user)"
   ]
  },
  {
   "cell_type": "markdown",
   "metadata": {},
   "source": [
    "**4. Soru**\n",
    "   \n",
    "   Kullanıcının girdiği string unique karakterleri ekrana yazdırınız."
   ]
  },
  {
   "cell_type": "code",
   "execution_count": 37,
   "metadata": {},
   "outputs": [
    {
     "name": "stdout",
     "output_type": "stream",
     "text": [
      "muzeynrakc"
     ]
    }
   ],
   "source": [
    "x = input(\"Kullanıcı ismi giriniz:\")\n",
    "\n",
    "short_user_name = []\n",
    "for i in x:\n",
    "    if i in short_user_name:\n",
    "        continue\n",
    "    else:\n",
    "        short_user_name.append(i)\n",
    "\n",
    "for j in short_user_name:\n",
    "    print(j, end = \"\")"
   ]
  },
  {
   "cell_type": "code",
   "execution_count": 13,
   "metadata": {},
   "outputs": [
    {
     "name": "stdout",
     "output_type": "stream",
     "text": [
      "{'s', 'e', 'y'}\n"
     ]
    }
   ],
   "source": [
    "userInput = input()\n",
    "print(set(userInput))"
   ]
  },
  {
   "cell_type": "markdown",
   "metadata": {},
   "source": [
    "**5. Soru**\n",
    "\n",
    "   Verilen iki set için aşağıdaki işlemleri yapınız.\n",
    "\n",
    "   * İki set arasındakı farkı ekrana yazdırınız.\n",
    "   * İki set içerisinde ortak olanları ekrana yazdırınız.\n",
    "   * İki seti birleştirip ekrana yazdırınız.\n",
    "   * İlk set içerisinde olmayıp iki set içerisinde olan değerleri ekrana yazdırınız.\n",
    "   * İkinci set içerisinde olmayıp ilk set içerisinde olan değerleri ekrana yazdırınız.\n",
    "\n",
    "\n",
    "   set1 = {True, False, 1, 2, 3, 4, 's', 'i', 's', 't', 'e'}\n",
    "   \n",
    "   set2 = {'r', 's', 'l', 'a', 'b', None, 6, 7, 8, 9}\n"
   ]
  },
  {
   "cell_type": "code",
   "execution_count": 7,
   "metadata": {},
   "outputs": [
    {
     "data": {
      "text/plain": [
       "{2, 3, 4, 6, 7, 8, 9, False, None, True, 'a', 'b', 'e', 'i', 'l', 'r', 't'}"
      ]
     },
     "execution_count": 7,
     "metadata": {},
     "output_type": "execute_result"
    }
   ],
   "source": [
    "# İki set arasındakı farkı ekrana yazdırınız.\n",
    "set1 = {True, False, 1, 2, 3, 4, 's', 'i', 's', 't', 'e'}\n",
    "set2 = {'r', 's', 'l', 'a', 'b', None, 6, 7, 8, 9}\n",
    "\n",
    "set1.symmetric_difference_update(set2)\n",
    "set1"
   ]
  },
  {
   "cell_type": "code",
   "execution_count": 8,
   "metadata": {},
   "outputs": [
    {
     "data": {
      "text/plain": [
       "{'s'}"
      ]
     },
     "execution_count": 8,
     "metadata": {},
     "output_type": "execute_result"
    }
   ],
   "source": [
    "# İki set içerisinde ortak olanları ekrana yazdırınız.\n",
    "set1 = {True, False, 1, 2, 3, 4, 's', 'i', 's', 't', 'e'}\n",
    "set2 = {'r', 's', 'l', 'a', 'b', None, 6, 7, 8, 9}\n",
    "\n",
    "set1.intersection_update(set2)\n",
    "set1"
   ]
  },
  {
   "cell_type": "code",
   "execution_count": 9,
   "metadata": {},
   "outputs": [
    {
     "data": {
      "text/plain": [
       "{2,\n",
       " 3,\n",
       " 4,\n",
       " 6,\n",
       " 7,\n",
       " 8,\n",
       " 9,\n",
       " False,\n",
       " None,\n",
       " True,\n",
       " 'a',\n",
       " 'b',\n",
       " 'e',\n",
       " 'i',\n",
       " 'l',\n",
       " 'r',\n",
       " 's',\n",
       " 't'}"
      ]
     },
     "execution_count": 9,
     "metadata": {},
     "output_type": "execute_result"
    }
   ],
   "source": [
    "# İki seti birleştirip ekrana yazdırınız.\n",
    "set1 = {True, False, 1, 2, 3, 4, 's', 'i', 's', 't', 'e'}\n",
    "set2 = {'r', 's', 'l', 'a', 'b', None, 6, 7, 8, 9}\n",
    "\n",
    "set3 = set1.union(set2)\n",
    "set3"
   ]
  },
  {
   "cell_type": "code",
   "execution_count": 12,
   "metadata": {},
   "outputs": [
    {
     "data": {
      "text/plain": [
       "{6, 7, 8, 9, None, 'a', 'b', 'l', 'r'}"
      ]
     },
     "execution_count": 12,
     "metadata": {},
     "output_type": "execute_result"
    }
   ],
   "source": [
    "#İlk set içerisinde olmayıp iki set içerisinde olan değerleri ekrana yazdırınız.\n",
    "set1 = {True, False, 1, 2, 3, 4, 's', 'i', 's', 't', 'e'}\n",
    "set2 = {'r', 's', 'l', 'a', 'b', None, 6, 7, 8, 9}\n",
    "\n",
    "set2.difference(set1)"
   ]
  },
  {
   "cell_type": "code",
   "execution_count": 13,
   "metadata": {},
   "outputs": [
    {
     "data": {
      "text/plain": [
       "{2, 3, 4, False, True, 'e', 'i', 't'}"
      ]
     },
     "execution_count": 13,
     "metadata": {},
     "output_type": "execute_result"
    }
   ],
   "source": [
    "#İkinci set içerisinde olmayıp ilk set içerisinde olan değerleri ekrana yazdırınız.\n",
    "set1 = {True, False, 1, 2, 3, 4, 's', 'i', 's', 't', 'e'}\n",
    "set2 = {'r', 's', 'l', 'a', 'b', None, 6, 7, 8, 9}\n",
    "\n",
    "set1.difference(set2)"
   ]
  },
  {
   "cell_type": "markdown",
   "metadata": {},
   "source": [
    "**6. Soru**\n",
    "\n",
    "   Kullanıcıdan alınan string ifadedeki karakterlerin kaç kere tekrar ettiğini tutan dictionary oluşturunuz.\n",
    "\n",
    "   Örnek: {'s': 3, 'r': 1, 'e': 1, 'l': 1, 'b': 1, 't': 1, 'a': 1, 'i': 1}"
   ]
  },
  {
   "cell_type": "code",
   "execution_count": 1,
   "metadata": {},
   "outputs": [
    {
     "name": "stdout",
     "output_type": "stream",
     "text": [
      "{'s': 3, 'i': 1, 't': 1, 'e': 1, 'r': 1, 'l': 1, 'a': 1, 'b': 1}\n"
     ]
    }
   ],
   "source": [
    "userInput = input()\n",
    "\n",
    "characterCountDict = {}\n",
    "\n",
    "for character in userInput:\n",
    "    if character in characterCountDict:\n",
    "        characterCountDict[character] += 1\n",
    "    else:\n",
    "        characterCountDict[character] = 1\n",
    "\n",
    "print(characterCountDict)"
   ]
  }
 ],
 "metadata": {
  "kernelspec": {
   "display_name": "Python 3.10.8 64-bit (microsoft store)",
   "language": "python",
   "name": "python3"
  },
  "language_info": {
   "codemirror_mode": {
    "name": "ipython",
    "version": 3
   },
   "file_extension": ".py",
   "mimetype": "text/x-python",
   "name": "python",
   "nbconvert_exporter": "python",
   "pygments_lexer": "ipython3",
   "version": "3.10.8"
  },
  "orig_nbformat": 4,
  "vscode": {
   "interpreter": {
    "hash": "75328cd36868a46990b96b50a3e79d16599f753ed0672728bccd76ddc954032c"
   }
  }
 },
 "nbformat": 4,
 "nbformat_minor": 2
}
