{
 "cells": [
  {
   "cell_type": "markdown",
   "metadata": {},
   "source": [
    "1. Soru\n",
    "\n",
    "   Aşağıdaki stringde verilen değeri, büyük harfe dönüştürmek ve tersine çevirmek için bir lambda fonksiyonu kullanın.\n",
    "   \n",
    "   SistersLab girdisi için beklenen çıktı 'BALSRETSİS'"
   ]
  },
  {
   "cell_type": "markdown",
   "metadata": {},
   "source": []
  },
  {
   "cell_type": "markdown",
   "metadata": {},
   "source": []
  },
  {
   "cell_type": "markdown",
   "metadata": {},
   "source": []
  },
  {
   "cell_type": "markdown",
   "metadata": {},
   "source": []
  },
  {
   "cell_type": "markdown",
   "metadata": {},
   "source": []
  },
  {
   "cell_type": "markdown",
   "metadata": {},
   "source": []
  },
  {
   "cell_type": "code",
   "execution_count": null,
   "metadata": {},
   "outputs": [],
   "source": [
    "strl = \"SistersLab\"\n",
    "\n",
    "revers_upper = lambda string: string.upper()[::-1]\n",
    "\n",
    "print(revers_upper(strl))"
   ]
  },
  {
   "cell_type": "code",
   "execution_count": null,
   "metadata": {},
   "outputs": [],
   "source": [
    "strl = lambda x : x[::-1].upper()\n",
    "print(strl(\"SistersLab\"))"
   ]
  },
  {
   "cell_type": "code",
   "execution_count": null,
   "metadata": {},
   "outputs": [],
   "source": []
  },
  {
   "cell_type": "markdown",
   "metadata": {},
   "source": [
    "2. Soru\n",
    "\n",
    "   Girilen değer 5-10 arasında ise sayının 5 katını, 10'dan büyükse 10 katını dönen bir lambda fonksiyonu ve normal fonksiyon yazın."
   ]
  },
  {
   "cell_type": "code",
   "execution_count": null,
   "metadata": {},
   "outputs": [],
   "source": [
    "num = lambda x:x * 10 if x > 10 else (x * 5 if x > 5 else x)\n",
    "num(11)"
   ]
  },
  {
   "cell_type": "code",
   "execution_count": null,
   "metadata": {},
   "outputs": [],
   "source": [
    "def check_conditions(x):\n",
    "    if x > 10:\n",
    "        return x * 10\n",
    "\n",
    "    elif x < 5:\n",
    "        return x * 5\n",
    "    else:\n",
    "        return x\n",
    "\n",
    "check_conditions(11)"
   ]
  },
  {
   "cell_type": "markdown",
   "metadata": {},
   "source": [
    "3. Soru\n",
    "   Listedeki sayılardan tek olanları lambda fonksiyonu kullanarak yazın\n"
   ]
  },
  {
   "cell_type": "code",
   "execution_count": null,
   "metadata": {},
   "outputs": [],
   "source": [
    "list = [34, 12, 64, 7, 75, 13, 63, 3, 23, 232, 3453, 111211]\n",
    "\n",
    "odd_list = list(filter(lambda num: (num % 2 ! = 0),list))\n",
    "print(odd_list)"
   ]
  },
  {
   "cell_type": "code",
   "execution_count": null,
   "metadata": {},
   "outputs": [],
   "source": [
    "list = [34, 12, 64, 7, 75, 13, 63, 3, 23, 232, 3453, 111211]\n",
    "print(list(filter(lambda x: x % 2 !=0, list)))"
   ]
  },
  {
   "cell_type": "markdown",
   "metadata": {},
   "source": [
    "4. Soru\n",
    "\n",
    "   [0,1,2,3,4,5,6,7,9,10,12] Verilen listenin\n",
    "\n",
    "  * 3.indexi ile 6.indexi arasındaki değerleri yazdırınız.\n",
    "  * Listeyi tersten yazdırınız.\n",
    "  * Listeye 10'dan sonra olacak şekilde 11 değerini ekleyiniz.\n",
    "  * Listenin en başına -15 değerini ekleyiniz.\n",
    "  * Listenin sonundaki değeri siliniz ve ekrana yazdırınız.\n",
    "  * Listeye 5.indexten başlayarak 50 ve 51 değerlerini ekleyiniz.\n",
    "  * Listedeki her bir değeri, değerin 10 ile çarpımı ile   güncelleyiniz.\n",
    "  * Listedeki her bir değer için, eğer değer 2'nin katı ise değeri değerin 5'e bölümü ile 2'nin katı değilse değere 2 ekleyerek güncelleyiniz."
   ]
  },
  {
   "cell_type": "code",
   "execution_count": null,
   "metadata": {},
   "outputs": [],
   "source": [
    "min_list = [0,1,2,3,4,5,6,7,9,10,12]\n",
    "print(min_list[3:7])"
   ]
  },
  {
   "cell_type": "code",
   "execution_count": null,
   "metadata": {},
   "outputs": [],
   "source": [
    "min_list = [0,1,2,3,4,5,6,7,9,10,12]\n",
    "print(min_list[::-1])"
   ]
  },
  {
   "cell_type": "code",
   "execution_count": null,
   "metadata": {},
   "outputs": [],
   "source": [
    "min_list = [0,1,2,3,4,5,6,7,9,10,12]\n",
    "min_list.insert(10,11)\n",
    "print(min_list)"
   ]
  },
  {
   "cell_type": "code",
   "execution_count": null,
   "metadata": {},
   "outputs": [],
   "source": [
    "min_list = [0,1,2,3,4,5,6,7,9,10,12]\n",
    "min_list(0, -15)\n",
    "print(min_list)"
   ]
  },
  {
   "cell_type": "code",
   "execution_count": null,
   "metadata": {},
   "outputs": [],
   "source": [
    "min_list = [0,1,2,3,4,5,6,7,9,10,12]\n",
    "min_list.pop()"
   ]
  },
  {
   "cell_type": "code",
   "execution_count": null,
   "metadata": {},
   "outputs": [],
   "source": [
    "min_list = [0,1,2,3,4,5,6,7,9,10,12]\n",
    "min_list.insert(5, \"50,51\")"
   ]
  },
  {
   "cell_type": "code",
   "execution_count": null,
   "metadata": {},
   "outputs": [],
   "source": [
    "min_list = [0,1,2,3,4,5,6,7,9,10,12]\n",
    "min_list[5:5] = [50:51]\n",
    "print(min_list)"
   ]
  },
  {
   "cell_type": "code",
   "execution_count": null,
   "metadata": {},
   "outputs": [],
   "source": [
    "min_list = [0,1,2,3,4,5,6,7,9,10,12]\n",
    "min_list.insert(5,50)\n",
    "min_list.insert(6,51)\n",
    "print(min_list)"
   ]
  },
  {
   "cell_type": "code",
   "execution_count": null,
   "metadata": {},
   "outputs": [],
   "source": [
    "liste = [0,1,2,3,4,5,6,7,9,10,12]\n",
    "liste = list(map(lambda number: number * 10,liste))\n",
    "print(liste)"
   ]
  },
  {
   "cell_type": "code",
   "execution_count": null,
   "metadata": {},
   "outputs": [],
   "source": [
    "liste = [0,1,2,3,4,5,6,7,9,10,12]\n",
    "liste = list(map(lambda number: number // 5 if number % 2 == 0 else number + 2,liste))\n",
    "print(liste)"
   ]
  },
  {
   "cell_type": "markdown",
   "metadata": {},
   "source": [
    "5. Soru\n",
    "\n",
    "   Kendisine parametre olarak verilen listenin içerisindeki sayıları toplayan ve bu sonucu dönen bir fonksiyon yazınız."
   ]
  },
  {
   "cell_type": "code",
   "execution_count": null,
   "metadata": {},
   "outputs": [],
   "source": []
  },
  {
   "cell_type": "markdown",
   "metadata": {},
   "source": [
    "6. Soru\n",
    "\n",
    "   Kendisine parametre olarak verilen listenin içerisindeki sayıları çarpan ve bu sonucu dönen bir fonksiyon yazınız."
   ]
  },
  {
   "cell_type": "code",
   "execution_count": null,
   "metadata": {},
   "outputs": [],
   "source": []
  },
  {
   "cell_type": "markdown",
   "metadata": {},
   "source": [
    "7. Soru\n",
    "\n",
    "   Kendisine parametre olarak verilen listenin içerisindeki sayıların 5 ile bölümünden kalanlarının toplamını dönen bir fonksiyon yazınız."
   ]
  },
  {
   "cell_type": "code",
   "execution_count": null,
   "metadata": {},
   "outputs": [],
   "source": []
  },
  {
   "cell_type": "markdown",
   "metadata": {},
   "source": [
    "8. Soru\n",
    "\n",
    "   Kendisine parametre olarak verilen listenin içerisindeki sayılardan en büyüğünü ve en küçüğünü döndüren bir fonksiyon yazınız."
   ]
  },
  {
   "cell_type": "code",
   "execution_count": null,
   "metadata": {},
   "outputs": [],
   "source": []
  },
  {
   "cell_type": "markdown",
   "metadata": {},
   "source": [
    "9. Soru\n",
    "\n",
    "   Kendisine parametre olarak verilen listenin içerisindeki sayılardan, kendisine parametre olarak verilen sayıya tam bölünenlerin toplamını döndüren bir fonksiyon yazınız. Fonksiyon aşağıdaki gibi görünebilir.\n",
    "\n",
    "   def tam_bolunenleri_topla(liste, bolunecek_sayi)\n",
    "   return tam_bolunenlerin_toplami"
   ]
  },
  {
   "cell_type": "code",
   "execution_count": null,
   "metadata": {},
   "outputs": [],
   "source": []
  },
  {
   "cell_type": "markdown",
   "metadata": {},
   "source": [
    "10. Soru\n",
    "\n",
    "    -1000 ile 1000 aralığında random sayılardan oluşan 250 elemanlı bir liste oluşturunuz. Sonrasında oluşturduğunuz bu liste ile aşağıdaki işlemleri yapınız.\n",
    "\n",
    "   * Bu liste içerisinde kaç adet pozitif, kaç adet negatif sayı olduğunu bulunuz.\n",
    "   * Bu liste içerisinde kaç adet tek, kaç adet çift sayı olduğunu bulunuz.\n",
    "   * Bu liste içerisinde 3'e tam bölünen sayıların toplamını bulunuz.\n",
    "   * Bu liste içerisinde 5'e tam bölünen sayıların toplamını bulunuz.\n",
    "   * Bu liste içerisinde 15'e tam bölünen sayıların toplamını bulunuz.\n",
    "   * Bu liste içerisindeki çift sayıların ve tek sayıların toplamını bulunuz.\n",
    "   * Bu liste içerisinde çift indexte bulunan sayıların toplamını bulunuz.\n",
    "   * Listedeki her bir değer için, eğer değer pozitif ise 10 çıkarınız değilse 20 ekleyiniz.\n",
    "   * Listedeki pozitif ve negatif değerlerin en büyüğünü ayrı ayrı bulunuz."
   ]
  },
  {
   "cell_type": "code",
   "execution_count": null,
   "metadata": {},
   "outputs": [],
   "source": [
    "import random\n",
    "\n",
    "randomList = []\n",
    "for counter in range(0, 250):\n",
    "    randomList.append(random.randint(-1000, 1000))\n",
    "\n",
    "print(len(randomList))\n",
    "\n",
    "positiveCount = len(list(filter(lambda number: number >=0, randomList )))\n",
    "positiveCount = len(list(filter(lambda number: number < 0, randomList )))\n",
    "print(f\"Negative Count: {negativeCount} - Positive Count: {positiveCount}\")\n"
   ]
  },
  {
   "cell_type": "code",
   "execution_count": null,
   "metadata": {},
   "outputs": [],
   "source": [
    "import random\n",
    "\n",
    "randomList = []\n",
    "for counter in range(0, 250):\n",
    "    randomList.append(random.randint(-1000, 1000))\n",
    "\n",
    "print(len(randomList))\n",
    "\n",
    "positiveCount = len(list(filter(lambda number: number >=0, randomList )))\n",
    "positiveCount = len(list(filter(lambda number: number < 0, randomList )))\n",
    "print(f\"Negative Count: {negativeCount} - Positive Count: {positiveCount}\")"
   ]
  }
 ],
 "metadata": {
  "kernelspec": {
   "display_name": "Python 3.9.5 64-bit",
   "language": "python",
   "name": "python3"
  },
  "language_info": {
   "name": "python",
   "version": "3.9.5"
  },
  "orig_nbformat": 4,
  "vscode": {
   "interpreter": {
    "hash": "f6246b25e200e4c5124e3e61789ac81350562f0761bbcf92ad9e48654207659c"
   }
  }
 },
 "nbformat": 4,
 "nbformat_minor": 2
}
