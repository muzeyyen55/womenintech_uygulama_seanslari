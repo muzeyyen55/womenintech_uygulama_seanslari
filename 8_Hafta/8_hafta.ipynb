{
 "cells": [
  {
   "cell_type": "markdown",
   "metadata": {},
   "source": [
    "**1. Soru**\n",
    "\n",
    "Bir liste üzerinde sıralama algoritmasını kullanarak listeyi sıralayınız."
   ]
  },
  {
   "cell_type": "code",
   "execution_count": 1,
   "metadata": {},
   "outputs": [
    {
     "name": "stdout",
     "output_type": "stream",
     "text": [
      "------- 1. Çözüm -------\n",
      "Dizi: [-2, 45, 0, 11, -9]\n",
      "\n",
      "------- 2. Çözüm -------\n",
      "[0, 1, 2, 3, 4, 5, 6, 7, 8, 9, 10, 11, 12, 13, 14, 15, 16, 17, 18, 19, 20, 21, 22, 23, 24, 25, 26, 27, 28, 29, 30, 31, 32, 33, 34, 35, 36, 37, 38, 39, 40, 41, 42, 43, 44, 45, 46, 47, 48, 49, 50, 51, 52, 53, 54, 55, 56, 57, 58, 59, 60, 61, 62, 63, 64, 65, 66, 67, 68, 69, 70, 71, 72, 73, 74, 75, 76, 77, 78, 79, 80, 81, 82, 83, 84, 85, 86, 87, 88, 89, 90, 91, 92, 93, 94, 95, 96, 97, 98, 99]\n"
     ]
    }
   ],
   "source": [
    "print(\"------- 1. Çözüm -------\")\n",
    "def selectionSort(array, size):\n",
    "    for step in range(size):\n",
    "        min_idx = step\n",
    "\n",
    "        for i in range(step + 1, size):\n",
    "            if array[i] < array[min_idx]:\n",
    "                min_idex = 1\n",
    "\n",
    "        (array[step], array[min_idx]) = (array[min_idx], array[step])\n",
    "\n",
    "data = [-2, 45, 0, 11, -9]\n",
    "size = len(data)\n",
    "selectionSort(data, size)\n",
    "print(\"Dizi:\", data)\n",
    "print()\n",
    "\n",
    "print(\"------- 2. Çözüm -------\")\n",
    "import random\n",
    "#Creating List\n",
    "list_length = 100\n",
    "my_list = [i for i in range(0, list_length)]\n",
    "random.shuffle(my_list)\n",
    "\n",
    "for outer_index in range(list_length):\n",
    "    current_minimum_index = outer_index\n",
    "    for inner_index in range(outer_index, list_length):\n",
    "        if my_list[current_minimum_index] > my_list[inner_index]:\n",
    "            current_minimum_index = inner_index\n",
    "    my_list[outer_index], my_list[current_minimum_index] = my_list[current_minimum_index], my_list[outer_index]\n",
    "\n",
    "print(my_list)"
   ]
  },
  {
   "cell_type": "code",
   "execution_count": 2,
   "metadata": {},
   "outputs": [
    {
     "name": "stdout",
     "output_type": "stream",
     "text": [
      "------- 1. Çözüm -------\n",
      "[2, 10, 18, 39, 72, 85, 212]\n",
      "\n",
      "------- 2. Çözüm -------\n",
      "[17, 22, 63, 59, 32, 69, 36, 21, 31, 42, 79, 57, 80, 71, 90, 77, 82, 39, 55, 51, 58, 95, 87, 14, 53, 93, 28, 34, 86, 0, 78, 65, 50, 54, 20, 4, 12, 47, 29, 23, 40, 27, 64, 13, 66, 2, 72, 98, 3, 16, 41, 35, 10, 56, 5, 61, 97, 33, 85, 15, 83, 30, 11, 1, 74, 9, 26, 48, 52, 6, 8, 19, 18, 44, 24, 99, 91, 94, 76, 43, 45, 89, 25, 84, 70, 92, 38, 46, 62, 49, 73, 7, 88, 75, 60, 67, 37, 68, 81, 96]\n",
      "[0, 1, 2, 3, 4, 5, 6, 7, 8, 9, 10, 11, 12, 13, 14, 15, 16, 17, 18, 19, 20, 21, 22, 23, 24, 25, 26, 27, 28, 29, 30, 31, 32, 33, 34, 35, 36, 37, 38, 39, 40, 41, 42, 43, 44, 45, 46, 47, 48, 49, 50, 51, 52, 53, 54, 55, 56, 57, 58, 59, 60, 61, 62, 63, 64, 65, 66, 67, 68, 69, 70, 71, 72, 73, 74, 75, 76, 77, 78, 79, 80, 81, 82, 83, 84, 85, 86, 87, 88, 89, 90, 91, 92, 93, 94, 95, 96, 97, 98, 99]\n"
     ]
    }
   ],
   "source": [
    "#BUBBLE SORT\n",
    "\n",
    "print(\"------- 1. Çözüm -------\")\n",
    "def bubblesort(elements):\n",
    "    swapped = False\n",
    "    for i in range(len(elements)-1, 0, -1):\n",
    "        for i in range(i):\n",
    "            if elements[i] > elements[i+1]:\n",
    "                swapped = True\n",
    "                elements[i], elements[i+1] = elements[i+1], elements[i]\n",
    "        if not swapped:\n",
    "            return\n",
    "elements= [39, 212, 18, 85, 72, 10, 2]\n",
    "bubblesort(elements)\n",
    "print(elements)\n",
    "print()\n",
    "\n",
    "print(\"------- 2. Çözüm -------\")\n",
    "import random\n",
    "list_length = 100\n",
    "my_list = [i for i in range(0, list_length)]\n",
    "random.shuffle(my_list)\n",
    "print(my_list)\n",
    "for outer_index in range(list_length):\n",
    "    for inner_index in range(0, list_length - 1):\n",
    "        if my_list[inner_index] > my_list[inner_index + 1]:\n",
    "            my_list[inner_index], my_list[inner_index+1] = my_list[inner_index +1], my_list[inner_index]\n",
    "print(my_list)"
   ]
  },
  {
   "cell_type": "code",
   "execution_count": 3,
   "metadata": {},
   "outputs": [
    {
     "name": "stdout",
     "output_type": "stream",
     "text": [
      "------- 1. Çözüm -------\n",
      "[1, 3, 4, 5, 9]\n",
      "\n",
      "------- 2. Çözüm -------\n",
      "[42, 52, 43, 59, 70, 13, 96, 91, 19, 80, 81, 97, 20, 92, 34, 49, 12, 2, 94, 10, 68, 41, 39, 75, 72, 3, 28, 90, 58, 6, 1, 11, 24, 60, 65, 23, 64, 44, 95, 79, 30, 46, 55, 57, 82, 32, 36, 47, 66, 99, 69, 35, 78, 29, 85, 77, 4, 88, 18, 21, 62, 5, 86, 51, 31, 74, 84, 33, 25, 22, 17, 67, 87, 50, 56, 48, 9, 45, 93, 98, 54, 14, 0, 53, 40, 61, 38, 63, 89, 26, 7, 37, 76, 83, 16, 27, 73, 15, 71, 8]\n",
      "[0, 1, 2, 3, 4, 5, 6, 7, 8, 9, 10, 11, 12, 13, 14, 15, 16, 17, 18, 19, 20, 21, 22, 23, 24, 25, 26, 27, 28, 29, 30, 31, 32, 33, 34, 35, 36, 37, 38, 39, 40, 41, 42, 43, 44, 45, 46, 47, 48, 49, 50, 51, 52, 53, 54, 55, 56, 57, 58, 59, 60, 61, 62, 63, 64, 65, 66, 67, 68, 69, 70, 71, 72, 73, 74, 75, 76, 77, 78, 79, 80, 81, 82, 83, 84, 85, 86, 87, 88, 89, 90, 91, 92, 93, 94, 95, 96, 97, 98, 99]\n"
     ]
    }
   ],
   "source": [
    "#ınsertionSort\n",
    "\n",
    "print(\"------- 1. Çözüm -------\")\n",
    "def insertionSort(my_list):\n",
    "    for i in range(1, len(my_list)):\n",
    "        list_length = my_list[i]\n",
    "        j = i - 1\n",
    "        while j >= 0 and list_length < my_list[j]:\n",
    "            my_list[j + 1] = my_list[j]\n",
    "            j = j-1\n",
    "        my_list[j + 1] = list_length\n",
    "data = [9, 5, 1, 4, 3]\n",
    "insertionSort(data)\n",
    "print(data)\n",
    "print()\n",
    "\n",
    "print(\"------- 2. Çözüm -------\")\n",
    "import random\n",
    "list_length = 100\n",
    "liste = []\n",
    "my_list = [i for i in range(0, list_length)]\n",
    "random.shuffle(my_list)\n",
    "print(my_list)\n",
    "for outer_index in range(1, list_length):\n",
    "    for inner_index in range(outer_index):\n",
    "        if my_list[outer_index] < my_list[inner_index]:\n",
    "            currentValue = my_list.pop(outer_index)\n",
    "            my_list.insert(inner_index, currentValue)\n",
    "            break\n",
    "print(my_list)\n"
   ]
  },
  {
   "cell_type": "markdown",
   "metadata": {},
   "source": [
    "**2. Soru**\n",
    "\n",
    "Fonksiyon bir integer array nums ve bir hedef target değişkeni almalı ve bizlere toplamı target olan indexleri dönmeli.\n",
    "\n",
    "**Kurallar:** Aynı index’teki değeri iki defa kullanamayız.\n",
    "\n",
    "**Örnek**\n",
    "\n",
    "Parametreler: nums = [2,7,11,15], target = 9\n",
    "\n",
    "Dönen Değer: [0,1]\n",
    "\n",
    "Açıklama: nums[0] ve nums[1]'deki değerlerin toplamı 9 yaptığı için çıktımız [0, 1] oldu.\n",
    "\n",
    "**Örnek**\n",
    "\n",
    "Parametreler: nums = [3,2,4], target = 6\n",
    "\n",
    "Dönen Değer: [1,2]\n",
    "\n",
    "Açıklama: nums[1] ve nums[2]'deki değerlerin toplamı 6 yaptığı için çıktımız [1, 2] oldu.\n",
    "\n",
    "Not: Burada [0,0] çıktı olarak kabul edilemez. Çünkü aynı index'i kullanamayacağımız söylenmişti.\n",
    "\n",
    "**Örnek**\n",
    "\n",
    "Parametreler: nums = [3,2,4,1,3], target = 7\n",
    "Dönen Değer: [2,4]\n",
    "\n",
    "Açıklama: nums[2] ve nums[4]'deki değerlerin toplamı 7 yaptığı için çıktımız [2, 4] oldu."
   ]
  },
  {
   "cell_type": "code",
   "execution_count": null,
   "metadata": {},
   "outputs": [],
   "source": []
  },
  {
   "cell_type": "markdown",
   "metadata": {},
   "source": [
    "**3. Soru**\n",
    "\n",
    "Ad, Soyad, Cinsiyet ve Yaş alanlarından oluşan person (kişi) adında bir sınıf oluşturunuz."
   ]
  },
  {
   "cell_type": "code",
   "execution_count": 9,
   "metadata": {},
   "outputs": [
    {
     "name": "stdout",
     "output_type": "stream",
     "text": [
      " adı: Nur\n",
      " soyadı: AKCAY\n",
      " cinsiyet: Kadın\n",
      " yas: 23\n"
     ]
    }
   ],
   "source": [
    "class person:\n",
    "    adı = \"\"\n",
    "    soyadı = \"\"\n",
    "    cinsiyet = \"\"\n",
    "    yaş = \"\"\n",
    "\n",
    "person_1 = person()\n",
    "person_1.adı = \"Nur\"\n",
    "person_1.soyadı = \"AKCAY\"\n",
    "person_1.cinsiyet = \"Kadın\"\n",
    "person_1.yaş = 23\n",
    "\n",
    "print(\" adı: {}\\n soyadı: {}\\n cinsiyet: {}\\n yas: {}\".format(person_1.adı, person_1.soyadı, person_1.cinsiyet, person_1.yaş))"
   ]
  },
  {
   "cell_type": "markdown",
   "metadata": {},
   "source": [
    "**4. Soru**\n",
    "\n",
    "Person sınıfını kalıtım alan ve maaş, şirket, departman, ülke alanlarını da içeren Employee(Calisan) adında yeni bir sınıf oluşturunuz."
   ]
  },
  {
   "cell_type": "code",
   "execution_count": 10,
   "metadata": {},
   "outputs": [],
   "source": [
    "class person:\n",
    "    def __init__(self, adi, soyadi, cinsiyet, yas):\n",
    "        adi = \"\"\n",
    "        soyadi = \"\"\n",
    "        cinsiyet = \"\"\n",
    "        yas = \"\"\n",
    "        print(\"Person Classı oluşturuldu\")\n",
    "\n",
    "class Employee(person):\n",
    "    def __init__(self, adi, soyadi, cinsiyet, yas, maas, sirket, departman, ulke):\n",
    "        super(). __init__(adi, soyadi, cinsiyet, yas)\n",
    "        self.maas = maas\n",
    "        self.sirket = sirket\n",
    "        self.departman = departman\n",
    "        self.ulke = ulke\n",
    "        print(\"Enployee Classı oluşturuldu\")"
   ]
  },
  {
   "cell_type": "code",
   "execution_count": 11,
   "metadata": {},
   "outputs": [
    {
     "name": "stdout",
     "output_type": "stream",
     "text": [
      "Person Classı oluşturuldu\n",
      "Enployee Classı oluşturuldu\n"
     ]
    }
   ],
   "source": [
    "person = Employee(\"Nur\", \"AKÇAY\", \"BAYAN\", 23, 10000, \"Turkcell\", \"Front - End Developer\", \"Türkiye\")"
   ]
  },
  {
   "cell_type": "markdown",
   "metadata": {},
   "source": [
    "**5. Soru**\n",
    "\n",
    "tempData.txt dosyasının ilk satırındaki verileri, oluşturduğunuz Person sınıfından bir nesne oluşturup onun içerisindeki ilgili alanlara yerleştiriniz."
   ]
  },
  {
   "cell_type": "code",
   "execution_count": null,
   "metadata": {},
   "outputs": [],
   "source": []
  },
  {
   "cell_type": "markdown",
   "metadata": {},
   "source": [
    "**6. Soru**\n",
    "\n",
    "tempData.txt dosyasındaki tüm verileri Person sınıfının nesnelerinden oluşan bir listede tutunuz. Sonrasında oluşturduğunuz liste üzerinde aşağıdaki işlemleri yapınız.\n",
    "\n",
    "* Sorun çıkarmaması için her satırdaki '\\n' karakterini '' ile replace ediniz. (line.replace('\\n',''))\n",
    "* Adı 'A' ile başlayanları ekrana yazdırınız.\n",
    "* Adı 'A' ile soyadı ise 'S' ile başlayanları ekrana yazdırınız.\n",
    "* Yaşı 30'dan büyük olanları ekrana yazdırınız.\n",
    "* Yaşı 40'tan büyük ve 50'den küçük olanları ekrana yazdırınız.\n",
    "* 'Research and Development' departmanında çalışanları ekrana yazdırınız.\n",
    "* 'India'da yaşayanları ekrana yazdırınız.\n",
    "* 'San Marino'da yaşayıp 'Sales' departmanında çalışanları ekrana yazdırınız.\n",
    "* 'Sales' departmanında çalışıp maaşı 30000'den yüksek olanları ekrana yazdırınız.\n",
    "* 'Apple Inc.' şirketinde çalışıp cinsiyeti kadın olanları ekrana yazdırınız.\n",
    "* 'Apple Inc.' şirketinde çalışıp maaşı 30000'den az olanları ekrana yazdırınız.\n",
    "* 'Sales' departmanında çalışanların oranını ekrana yazdırınız.\n",
    "* 'IT' departmanında çalışanların oranını yazdırınız.\n",
    "* 'IT' departmanında çalışan ve cinsiyeti kadın olanların oranını ekrana yazdırınız.\n",
    "* 'IT' departmanında çalışan ve cinsiyeti kadın olanların, 'IT' departmanında çalışan ve cinsiyeti erkek olaranlara oranını ekrana yazdırınız."
   ]
  }
 ],
 "metadata": {
  "kernelspec": {
   "display_name": "Python 3.10.8 64-bit (microsoft store)",
   "language": "python",
   "name": "python3"
  },
  "language_info": {
   "codemirror_mode": {
    "name": "ipython",
    "version": 3
   },
   "file_extension": ".py",
   "mimetype": "text/x-python",
   "name": "python",
   "nbconvert_exporter": "python",
   "pygments_lexer": "ipython3",
   "version": "3.10.8"
  },
  "orig_nbformat": 4,
  "vscode": {
   "interpreter": {
    "hash": "75328cd36868a46990b96b50a3e79d16599f753ed0672728bccd76ddc954032c"
   }
  }
 },
 "nbformat": 4,
 "nbformat_minor": 2
}
