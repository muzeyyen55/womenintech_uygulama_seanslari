{
 "cells": [
  {
   "cell_type": "markdown",
   "metadata": {},
   "source": [
    "**1.Soru**\n",
    "\n",
    "   Örnek olarak verilen example.txt dosyasını\n",
    "\n",
    "* Read\n",
    "* Append\n",
    "* Write\n",
    "\n",
    "  modlarında açınız"
   ]
  },
  {
   "cell_type": "code",
   "execution_count": null,
   "metadata": {},
   "outputs": [],
   "source": []
  },
  {
   "cell_type": "markdown",
   "metadata": {},
   "source": [
    "**2.Soru**\n",
    "   \n",
    "   Kullanıcıdan ad ve soyad değerlerini alıp, bu değerleri example.txt dosyasına yazdırınız."
   ]
  },
  {
   "cell_type": "code",
   "execution_count": null,
   "metadata": {},
   "outputs": [],
   "source": []
  },
  {
   "cell_type": "markdown",
   "metadata": {},
   "source": [
    "**3.Soru**\n",
    "   \n",
    "   Kullanıcıdan yaş değerini alıp bu değeri example.txt dosyasına, dosyadaki verileri silmeden yazınız."
   ]
  },
  {
   "cell_type": "code",
   "execution_count": null,
   "metadata": {},
   "outputs": [],
   "source": []
  },
  {
   "cell_type": "markdown",
   "metadata": {},
   "source": [
    "**4.Soru**\n",
    "\n",
    "   example.txt dosyasının ilk 5 satırını okuyup ekrana yazdırınız."
   ]
  },
  {
   "cell_type": "code",
   "execution_count": null,
   "metadata": {},
   "outputs": [],
   "source": []
  },
  {
   "cell_type": "markdown",
   "metadata": {},
   "source": [
    "**5.Soru**\n",
    "\n",
    "   Ad, Soyad, Cinsiyet ve Yaş alanlarından oluşan person (kişi) adında bir sınıf oluşturunuz."
   ]
  },
  {
   "cell_type": "code",
   "execution_count": null,
   "metadata": {},
   "outputs": [],
   "source": []
  },
  {
   "cell_type": "markdown",
   "metadata": {},
   "source": [
    "**6.Soru**\n",
    "\n",
    "Person (kişi) sınıfını kalıtım alan ve maaş, şirket, departman, ülke alanlarını da içeren Employee (Çalışan) yeni bir sınıf oluşturunuz."
   ]
  },
  {
   "cell_type": "code",
   "execution_count": null,
   "metadata": {},
   "outputs": [],
   "source": []
  },
  {
   "cell_type": "markdown",
   "metadata": {},
   "source": [
    "**7.Soru**\n",
    "\n",
    "tempData.txt dosyasının ilk satırındaki verileri, oluşturduğunuz Person (Kişi) sınıfından bir nesne oluşturup onun içerisindeki ilgili alanlara yerleştiriniz."
   ]
  },
  {
   "cell_type": "code",
   "execution_count": null,
   "metadata": {},
   "outputs": [],
   "source": []
  },
  {
   "cell_type": "markdown",
   "metadata": {},
   "source": [
    "**8.Soru**\n",
    "\n",
    "tempData.txt dosyasındaki tüm verileri Person sınıfının nesnelerinden oluşan bir listede tutunuz. Sonrasında oluşturduğunuz liste üzerinde aşağıdaki işlemleri yapınız.\n",
    "\n",
    "* Sorun çıkarmaması için her satırdaki '\\n' karakterini '' ile replace ediniz. (line.replace('\\n',''))\n",
    "\n",
    "* Adı 'A' ile başlayanları ekrana yazdırınız.\n",
    "\n",
    "* Adı 'A' ile soyadı ise 'S' ile başlayanları ekrana yazdırınız.\n",
    "\n",
    "* Yaşı 30'dan büyük olanları ekrana yazdırınız.\n",
    "\n",
    "* Yaşı 40'tan büyük ve 50'den küçük olanları ekrana yazdırınız.\n",
    "\n",
    "* 'Research and Development' departmanında çalışanları ekrana yazdırınız.\n",
    "\n",
    "* 'India'da yaşayanları ekrana yazdırınız.\n",
    "\n",
    "* 'San Marino'da yaşayıp 'Sales' departmanında çalışanları ekrana yazdırınız.\n",
    "\n",
    "* 'Sales' departmanında çalışıp maaşı 30000'den yüksek olanları ekrana yazdırınız.\n",
    "\n",
    "* 'Apple Inc.' şirketinde çalışıp cinsiyeti kadın olanları ekrana yazdırınız.\n",
    "\n",
    "* 'Apple Inc.' şirketinde çalışıp maaşı 30000'den az olanları ekrana yazdırınız.\n",
    "\n",
    "* 'Sales' departmanında çalışanların oranını ekrana yazdırınız.\n",
    "\n",
    "* 'IT' departmanında çalışanların oranını yazdırınız.\n",
    "\n",
    "* 'IT' departmanında çalışan ve cinsiyeti kadın olanların oranını ekrana yazdırınız.\n",
    "\n",
    "* 'IT' departmanında çalışan ve cinsiyeti kadın olanların, 'IT' departmanında çalışan ve cinsiyeti erkek olaranlara oranını ekrana yazdırınız."
   ]
  },
  {
   "cell_type": "code",
   "execution_count": null,
   "metadata": {},
   "outputs": [],
   "source": []
  }
 ],
 "metadata": {
  "kernelspec": {
   "display_name": "Python 3.10.8 64-bit (microsoft store)",
   "language": "python",
   "name": "python3"
  },
  "language_info": {
   "name": "python",
   "version": "3.10.8"
  },
  "orig_nbformat": 4,
  "vscode": {
   "interpreter": {
    "hash": "75328cd36868a46990b96b50a3e79d16599f753ed0672728bccd76ddc954032c"
   }
  }
 },
 "nbformat": 4,
 "nbformat_minor": 2
}
