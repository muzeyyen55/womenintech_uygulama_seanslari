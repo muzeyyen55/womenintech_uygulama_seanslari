{
 "cells": [
  {
   "cell_type": "markdown",
   "metadata": {},
   "source": [
    "**1. Soru**\n",
    "\n",
    "   Aşağıdaki stringde verilen değeri, büyük harfe dönüştürmek ve tersine çevirmek için bir lambda fonksiyonu kullanın.\n",
    "   \n",
    "   SistersLab girdisi için beklenen çıktı 'BALSRETSİS'"
   ]
  },
  {
   "cell_type": "code",
   "execution_count": 1,
   "metadata": {},
   "outputs": [
    {
     "name": "stdout",
     "output_type": "stream",
     "text": [
      "BALSRETSIS\n"
     ]
    }
   ],
   "source": [
    "strl = \"SistersLab\"\n",
    "revers_upper = lambda string: string.upper()[::-1]\n",
    "print(revers_upper(strl))"
   ]
  },
  {
   "cell_type": "code",
   "execution_count": 2,
   "metadata": {},
   "outputs": [
    {
     "name": "stdout",
     "output_type": "stream",
     "text": [
      "BALSRETSIS\n"
     ]
    }
   ],
   "source": [
    "strl = lambda x : x[::-1].upper()\n",
    "print(strl(\"SistersLab\"))"
   ]
  },
  {
   "cell_type": "markdown",
   "metadata": {},
   "source": [
    "**2. Soru**\n",
    "\n",
    "   Girilen değer 5-10 arasında ise sayının 5 katını, 10'dan büyükse 10 katını dönen bir lambda fonksiyonu ve normal fonksiyon yazın."
   ]
  },
  {
   "cell_type": "code",
   "execution_count": 3,
   "metadata": {},
   "outputs": [
    {
     "data": {
      "text/plain": [
       "110"
      ]
     },
     "execution_count": 3,
     "metadata": {},
     "output_type": "execute_result"
    }
   ],
   "source": [
    "num = lambda x:x * 10 if x > 10 else (x * 5 if x > 5 else x)\n",
    "num(11)"
   ]
  },
  {
   "cell_type": "code",
   "execution_count": 4,
   "metadata": {},
   "outputs": [
    {
     "data": {
      "text/plain": [
       "110"
      ]
     },
     "execution_count": 4,
     "metadata": {},
     "output_type": "execute_result"
    }
   ],
   "source": [
    "def check_conditions(x):\n",
    "    if x > 10:\n",
    "        return x * 10\n",
    "\n",
    "    elif x < 5:\n",
    "        return x * 5\n",
    "    else:\n",
    "        return x\n",
    "\n",
    "check_conditions(11)"
   ]
  },
  {
   "cell_type": "markdown",
   "metadata": {},
   "source": [
    "**3. Soru**\n",
    "\n",
    "   Listedeki sayılardan tek olanları lambda fonksiyonu kullanarak yazın\n"
   ]
  },
  {
   "cell_type": "code",
   "execution_count": 5,
   "metadata": {},
   "outputs": [
    {
     "name": "stdout",
     "output_type": "stream",
     "text": [
      "[57, 75, 13, 63, 3, 23, 3453, 111211]\n"
     ]
    }
   ],
   "source": [
    "list_ = [34, 12, 64, 57, 75, 13, 63, 3, 23, 232, 3453, 111211]  \n",
    "odd_list = list(filter( lambda num: (num % 2 != 0) , list_ ))  \n",
    "print(odd_list)"
   ]
  },
  {
   "cell_type": "markdown",
   "metadata": {},
   "source": [
    "**4. Soru**\n",
    "\n",
    "   [0,1,2,3,4,5,6,7,9,10,12] Verilen listenin\n",
    "\n",
    "  * 3.indexi ile 6.indexi arasındaki değerleri yazdırınız.\n",
    "  * Listeyi tersten yazdırınız.\n",
    "  * Listeye 10'dan sonra olacak şekilde 11 değerini ekleyiniz.\n",
    "  * Listenin en başına -15 değerini ekleyiniz.\n",
    "  * Listenin sonundaki değeri siliniz ve ekrana yazdırınız.\n",
    "  * Listeye 5.indexten başlayarak 50 ve 51 değerlerini ekleyiniz.\n",
    "  * Listedeki her bir değeri, değerin 10 ile çarpımı ile   güncelleyiniz.\n",
    "  * Listedeki her bir değer için, eğer değer 2'nin katı ise değeri değerin 5'e bölümü ile 2'nin katı değilse değere 2 ekleyerek güncelleyiniz."
   ]
  },
  {
   "cell_type": "code",
   "execution_count": 7,
   "metadata": {},
   "outputs": [
    {
     "name": "stdout",
     "output_type": "stream",
     "text": [
      "[3, 4, 5, 6]\n"
     ]
    }
   ],
   "source": [
    "#3.indexi ile 6.indexi arasındaki değerleri yazdırınız.\n",
    "min_list = [0,1,2,3,4,5,6,7,9,10,12]\n",
    "print(min_list[3:7])"
   ]
  },
  {
   "cell_type": "code",
   "execution_count": 8,
   "metadata": {},
   "outputs": [
    {
     "name": "stdout",
     "output_type": "stream",
     "text": [
      "[12, 10, 9, 7, 6, 5, 4, 3, 2, 1, 0]\n"
     ]
    }
   ],
   "source": [
    "#Listeyi tersten yazdırınız.\n",
    "min_list = [0,1,2,3,4,5,6,7,9,10,12]\n",
    "print(min_list[::-1])"
   ]
  },
  {
   "cell_type": "code",
   "execution_count": 9,
   "metadata": {},
   "outputs": [
    {
     "name": "stdout",
     "output_type": "stream",
     "text": [
      "[0, 1, 2, 3, 4, 5, 6, 7, 9, 10, 11, 12]\n"
     ]
    }
   ],
   "source": [
    "#Listeye 10'dan sonra olacak şekilde 11 değerini ekleyiniz.\n",
    "min_list = [0,1,2,3,4,5,6,7,9,10,12]\n",
    "min_list.insert(10,11)\n",
    "print(min_list)"
   ]
  },
  {
   "cell_type": "code",
   "execution_count": 11,
   "metadata": {},
   "outputs": [
    {
     "name": "stdout",
     "output_type": "stream",
     "text": [
      "[-15, 0, 1, 2, 3, 4, 5, 6, 7, 9, 10, 12]\n"
     ]
    }
   ],
   "source": [
    "#Listenin en başına -15 değerini ekleyiniz.\n",
    "liste = [0,1,2,3,4,5,6,7,9,10,12]\n",
    "liste.insert(0, -15)\n",
    "print(liste)"
   ]
  },
  {
   "cell_type": "code",
   "execution_count": 12,
   "metadata": {},
   "outputs": [
    {
     "data": {
      "text/plain": [
       "12"
      ]
     },
     "execution_count": 12,
     "metadata": {},
     "output_type": "execute_result"
    }
   ],
   "source": [
    "#Listenin sonundaki değeri siliniz ve ekrana yazdırınız.\n",
    "min_list = [0,1,2,3,4,5,6,7,9,10,12]\n",
    "min_list.pop()"
   ]
  },
  {
   "cell_type": "code",
   "execution_count": 14,
   "metadata": {},
   "outputs": [
    {
     "name": "stdout",
     "output_type": "stream",
     "text": [
      "[0, 1, 2, 3, 4, '50,51', 5, 6, 7, 9, 10, 12]\n",
      "[0, 1, 2, 3, 4, 50, 51, 5, 6, 7, 9, 10, 12]\n",
      "[0, 1, 2, 3, 4, 50, 51, 5, 6, 7, 9, 10, 12]\n"
     ]
    }
   ],
   "source": [
    "#Listeye 5.indexten başlayarak 50 ve 51 değerlerini ekleyiniz.\n",
    "min_list = [0,1,2,3,4,5,6,7,9,10,12]\n",
    "min_list.insert(5, \"50,51\")\n",
    "print(min_list)\n",
    "\n",
    "min_list = [0,1,2,3,4,5,6,7,9,10,12]\n",
    "min_list[5:5] = [50, 51]\n",
    "print(min_list)\n",
    "\n",
    "min_list = [0,1,2,3,4,5,6,7,9,10,12]\n",
    "min_list.insert(5,50)\n",
    "min_list.insert(6,51)\n",
    "print(min_list)"
   ]
  },
  {
   "cell_type": "code",
   "execution_count": null,
   "metadata": {},
   "outputs": [],
   "source": [
    "#Listedeki her bir değeri, değerin 10 ile çarpımı ile güncelleyiniz.\n",
    "liste = [0,1,2,3,4,5,6,7,9,10,12]\n",
    "liste = list(map(lambda number: number * 10,liste))\n",
    "print(liste)"
   ]
  },
  {
   "cell_type": "code",
   "execution_count": null,
   "metadata": {},
   "outputs": [],
   "source": [
    "#Listedeki her bir değer için, eğer değer 2'nin katı ise değeri değerin 5'e bölümü ile 2'nin katı değilse değere 2 ekleyerek güncelleyiniz.\n",
    "liste = [0,1,2,3,4,5,6,7,9,10,12]\n",
    "liste = list(map(lambda number: number // 5 if number % 2 == 0 else number + 2, liste))\n",
    "print(liste)"
   ]
  },
  {
   "cell_type": "markdown",
   "metadata": {},
   "source": [
    "**5. Soru**\n",
    "\n",
    "   Kendisine parametre olarak verilen listenin içerisindeki sayıları toplayan ve bu sonucu dönen bir fonksiyon yazınız."
   ]
  },
  {
   "cell_type": "code",
   "execution_count": 22,
   "metadata": {},
   "outputs": [
    {
     "name": "stdout",
     "output_type": "stream",
     "text": [
      "22\n"
     ]
    }
   ],
   "source": [
    "def sum(s):\n",
    "    summ = 0\n",
    "    for i in s:\n",
    "        summ += i\n",
    "    print(summ)\n",
    "l = [4, 5, 6, 7]\n",
    "sum(l)"
   ]
  },
  {
   "cell_type": "markdown",
   "metadata": {},
   "source": [
    "**6. Soru**\n",
    "\n",
    "   Kendisine parametre olarak verilen listenin içerisindeki sayıları çarpan ve bu sonucu dönen bir fonksiyon yazınız."
   ]
  },
  {
   "cell_type": "code",
   "execution_count": 23,
   "metadata": {},
   "outputs": [
    {
     "name": "stdout",
     "output_type": "stream",
     "text": [
      "20\n"
     ]
    }
   ],
   "source": [
    "def mult(s):\n",
    "    multt = 1\n",
    "    for i in s:\n",
    "        multt *= i\n",
    "    print(multt)\n",
    "l = [4, 5]\n",
    "mult(l)"
   ]
  },
  {
   "cell_type": "markdown",
   "metadata": {},
   "source": [
    "**7. Soru**\n",
    "\n",
    "   Kendisine parametre olarak verilen listenin içerisindeki sayıların 5 ile bölümünden kalanlarının toplamını dönen bir fonksiyon yazınız."
   ]
  },
  {
   "cell_type": "code",
   "execution_count": 24,
   "metadata": {},
   "outputs": [],
   "source": [
    "def sumRemains(givenList):\n",
    "    sum = 0\n",
    "    for item in givenList:\n",
    "        sum += item % 5\n",
    "    return sum"
   ]
  },
  {
   "cell_type": "markdown",
   "metadata": {},
   "source": [
    "**8. Soru**\n",
    "\n",
    "   Kendisine parametre olarak verilen listenin içerisindeki sayılardan en büyüğünü ve en küçüğünü döndüren bir fonksiyon yazınız."
   ]
  },
  {
   "cell_type": "code",
   "execution_count": null,
   "metadata": {},
   "outputs": [],
   "source": []
  },
  {
   "cell_type": "markdown",
   "metadata": {},
   "source": [
    "**9. Soru**\n",
    "\n",
    "   Kendisine parametre olarak verilen listenin içerisindeki sayılardan, kendisine parametre olarak verilen sayıya tam bölünenlerin toplamını döndüren bir fonksiyon yazınız. Fonksiyon aşağıdaki gibi görünebilir.\n",
    "\n",
    "   def tam_bolunenleri_topla(liste, bolunecek_sayi)\n",
    "   return tam_bolunenlerin_toplami"
   ]
  },
  {
   "cell_type": "code",
   "execution_count": 25,
   "metadata": {},
   "outputs": [
    {
     "name": "stdout",
     "output_type": "stream",
     "text": [
      "10\n"
     ]
    }
   ],
   "source": [
    "def sumDividedNumbers(givenList, divisor):\n",
    "    sumOfDividedNumbers = 0\n",
    "    for item in givenList:\n",
    "        if item % divisor == 0:\n",
    "            sumOfDividedNumbers += item\n",
    "        return sumOfDividedNumbers\n",
    "myList = [10,2,5,3,5,4,19,20]\n",
    "print(sumDividedNumbers(myList, 5))"
   ]
  },
  {
   "cell_type": "markdown",
   "metadata": {},
   "source": [
    "**10. Soru**\n",
    "\n",
    "-1000 ile 1000 aralığında random sayılardan oluşan 250 elemanlı bir liste oluşturunuz. Sonrasında oluşturduğunuz bu liste ile aşağıdaki işlemleri yapınız.\n",
    "\n",
    "   * Bu liste içerisinde kaç adet pozitif, kaç adet negatif sayı olduğunu bulunuz.\n",
    "   * Bu liste içerisinde kaç adet tek, kaç adet çift sayı olduğunu bulunuz.\n",
    "   * Bu liste içerisinde 3'e tam bölünen sayıların toplamını bulunuz.\n",
    "   * Bu liste içerisinde 5'e tam bölünen sayıların toplamını bulunuz.\n",
    "   * Bu liste içerisinde 15'e tam bölünen sayıların toplamını bulunuz.\n",
    "   * Bu liste içerisindeki çift sayıların ve tek sayıların toplamını bulunuz.\n",
    "   * Bu liste içerisinde çift indexte bulunan sayıların toplamını bulunuz.\n",
    "   * Listedeki her bir değer için, eğer değer pozitif ise 10 çıkarınız değilse 20 ekleyiniz.\n",
    "   * Listedeki pozitif ve negatif değerlerin en büyüğünü ayrı ayrı bulunuz."
   ]
  },
  {
   "cell_type": "code",
   "execution_count": 2,
   "metadata": {},
   "outputs": [
    {
     "name": "stdout",
     "output_type": "stream",
     "text": [
      "------- 1. Çözüm -------\n",
      "250\n",
      "Negative Count: 123 - Positive Count:127\n",
      "\n",
      "------- 2. Çözüm -------\n",
      "Negative Count: 123 - Positive Count:127\n"
     ]
    }
   ],
   "source": [
    "#Bu liste içerisinde kaç adet pozitif, kaç adet negatif sayı olduğunu bulunuz.\n",
    "print(\"------- 1. Çözüm -------\")\n",
    "import random\n",
    "import time\n",
    "\n",
    "randomList = []\n",
    "for counter in range(0, 250):\n",
    "    randomList.append(random.randint(-1000, 1000))\n",
    "\n",
    "print(len(randomList))\n",
    "startTime = time.perf_counter()\n",
    "\n",
    "positiveCount = len(list(filter(lambda number: number >= 0,randomList)))\n",
    "negativeCount = len(list(filter(lambda number: number < 0,randomList)))\n",
    "print(f'Negative Count: {negativeCount} - Positive Count:{positiveCount}')\n",
    "print()\n",
    "\n",
    "print(\"------- 2. Çözüm -------\")\n",
    "def countPositiveAndNegative(givenList):\n",
    "    positiveCount = negativeCount = 0\n",
    "    for item in givenList:\n",
    "        if item >= 0:\n",
    "            positiveCount += 1\n",
    "        else:\n",
    "            negativeCount += 1\n",
    "    return positiveCount, negativeCount\n",
    "startTime = time.perf_counter()\n",
    "positiveCount, negativeCount = countPositiveAndNegative(randomList)\n",
    "print(f'Negative Count: {negativeCount} - Positive Count:{positiveCount}')\n"
   ]
  },
  {
   "cell_type": "code",
   "execution_count": 3,
   "metadata": {},
   "outputs": [
    {
     "name": "stdout",
     "output_type": "stream",
     "text": [
      "------- 1. Çözüm -------\n",
      "Odd Count: 136 - Even Count: 114\n",
      "\n",
      "------- 2. Çözüm -------\n",
      "Odd Count: 136 - Even Count: 114\n"
     ]
    }
   ],
   "source": [
    "#Bu liste içerisinde kaç adet tek, kaç adet çift sayı olduğunu bulunuz.\n",
    "print(\"------- 1. Çözüm -------\")\n",
    "oddCount = len(list(filter(lambda number: number % 2 == 1,randomList)))\n",
    "evenCount = len(list(filter(lambda number: number % 2 == 0,randomList)))\n",
    "print(f'Odd Count: {oddCount} - Even Count: {evenCount}')\n",
    "print()\n",
    "\n",
    "print(\"------- 2. Çözüm -------\")\n",
    "def countOddAndEven(givenList):\n",
    "    oddCount = evenCount = 0\n",
    "    for item in givenList:\n",
    "        if item % 2 == 0:\n",
    "            evenCount += 1\n",
    "        else:\n",
    "            oddCount += 1\n",
    "    return oddCount, evenCount\n",
    "oddCount, evenCount = countOddAndEven(randomList)\n",
    "print(f'Odd Count: {oddCount} - Even Count: {evenCount}')"
   ]
  },
  {
   "cell_type": "code",
   "execution_count": null,
   "metadata": {},
   "outputs": [],
   "source": [
    "#Bu liste içerisinde 3'e tam bölünen sayıların toplamını bulunuz.\n",
    "#1. Çözüm\n",
    "print(f'Sum of numbers that divided by 3: {sum(list(filter(lambda number: number  % 3 == 0,randomList)))}')\n",
    "\n",
    "#2. Çözüm\n",
    "print(f'Sum of numbers that divided by 3: {sumDividedNumbers(randomList, 3)}')"
   ]
  },
  {
   "cell_type": "code",
   "execution_count": null,
   "metadata": {},
   "outputs": [],
   "source": [
    "#Bu liste içerisinde 5'e tam bölünen sayıların toplamını bulunuz.\n",
    "print(f'Sum of numbers that divided by 5: {sumDividedNumbers(randomList, 5)}')"
   ]
  },
  {
   "cell_type": "code",
   "execution_count": null,
   "metadata": {},
   "outputs": [],
   "source": [
    "#Bu liste içerisinde 15'e tam bölünen sayıların toplamını bulunuz.\n",
    "print(f'Sum of numbers that divided by 15: {sumDividedNumbers(randomList, 15)}')"
   ]
  },
  {
   "cell_type": "code",
   "execution_count": null,
   "metadata": {},
   "outputs": [],
   "source": [
    "# Bu liste içerisindeki çift sayıların ve tek sayıların toplamını bulunuz.\n",
    "oddTotal = sum(list(filter(lambda number: number % 2 == 1, randomList)))\n",
    "evenTotal = sum(list(filter(lambda number: number % 2 == 0, randomList)))\n",
    "print(f'Odd Total: {oddTotal} - Even Total: {evenTotal}')"
   ]
  },
  {
   "cell_type": "code",
   "execution_count": null,
   "metadata": {},
   "outputs": [],
   "source": [
    "#Bu liste içerisinde çift indexte bulunan sayıların toplamını bulunuz.\n",
    "print(f'Sum of numbers that on even index: {sum(randomList[0::2])}')"
   ]
  },
  {
   "cell_type": "code",
   "execution_count": null,
   "metadata": {},
   "outputs": [],
   "source": [
    "#Listedeki her bir değer için, eğer değer pozitif ise 10 çıkarınız değilse 20 ekleyiniz.\n",
    "randomList = list(map(lambda number: number - 10 if number > 0 else number +20, randomList))\n",
    "print(randomList)"
   ]
  },
  {
   "cell_type": "code",
   "execution_count": null,
   "metadata": {},
   "outputs": [],
   "source": [
    "#Listedeki pozitif ve negatif değerlerin en büyüğünü ayrı ayrı bulunuz.\n",
    "positiveMax = max(randomList)\n",
    "negativeMax = max(list(filter(lambda number: number < 0, randomList)))\n",
    "print(f'Negative Max: {negativeMax} - Positive Max: {positiveMax}')"
   ]
  }
 ],
 "metadata": {
  "kernelspec": {
   "display_name": "Python 3.10.8 64-bit (microsoft store)",
   "language": "python",
   "name": "python3"
  },
  "language_info": {
   "codemirror_mode": {
    "name": "ipython",
    "version": 3
   },
   "file_extension": ".py",
   "mimetype": "text/x-python",
   "name": "python",
   "nbconvert_exporter": "python",
   "pygments_lexer": "ipython3",
   "version": "3.10.8"
  },
  "orig_nbformat": 4,
  "vscode": {
   "interpreter": {
    "hash": "75328cd36868a46990b96b50a3e79d16599f753ed0672728bccd76ddc954032c"
   }
  }
 },
 "nbformat": 4,
 "nbformat_minor": 2
}
