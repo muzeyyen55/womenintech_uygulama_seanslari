{
 "cells": [
  {
   "cell_type": "markdown",
   "metadata": {},
   "source": [
    "**1.Soru**\n",
    "\n",
    "   Örnek olarak verilen example.txt dosyasını\n",
    "\n",
    "* Read\n",
    "* Append\n",
    "* Write\n",
    "\n",
    "  modlarında açınız"
   ]
  },
  {
   "cell_type": "code",
   "execution_count": 46,
   "metadata": {},
   "outputs": [
    {
     "name": "stdout",
     "output_type": "stream",
     "text": [
      "Nur\n",
      "Enes\n",
      "Ayse\n",
      "Duygu\n",
      "Beyza\n",
      "Emre\n",
      "Aysel\n",
      "Nihan\n",
      "Menekse\n",
      "\n"
     ]
    }
   ],
   "source": [
    "#Read\n",
    "f = open(\"../womenintech_uygulama_seanslari/files/example.txt\", \"r\")\n",
    "print(f.read())"
   ]
  },
  {
   "cell_type": "code",
   "execution_count": null,
   "metadata": {},
   "outputs": [],
   "source": [
    "#UYGULAMA SEANS ÇÖZÜM\n",
    "\n",
    "with open(\"example.txt\", \"a\") as f:\n",
    "    f.write(\"merhaba\")\n",
    "\n",
    "\n",
    "with open(\"example.txt\", \"r\") as f:\n",
    "    print(f.read())\n",
    "\n",
    "with open(\"example.txt\", \"w\") as f:\n",
    "    f.write(\"merhaba\")\n",
    "\n",
    "with open(\"example.txt\", \"r\") as f:\n",
    "    print(f.read())"
   ]
  },
  {
   "cell_type": "code",
   "execution_count": 1,
   "metadata": {},
   "outputs": [],
   "source": [
    "#Benim Çözümlerim\n",
    "f = open(\"../womenintech_uygulama_seanslari/files/example.txt\", \"a\")\n",
    "f.write(\"Ayhan\")\n",
    "f.close()"
   ]
  },
  {
   "cell_type": "code",
   "execution_count": 11,
   "metadata": {},
   "outputs": [],
   "source": [
    "#Write\n",
    "\n",
    "f = open(\"../womenintech_uygulama_seanslari/files/example.txt\", \"w\")\n",
    "f.write(\"Nur\\n\")\n",
    "f.write(\"Enes\\n\")\n",
    "f.write(\"Ayse\\n\")\n",
    "f.write(\"Duygu\\n\")\n",
    "f.write(\"Beyza\\n\")\n",
    "f.write(\"Emre\\n\")\n",
    "f.close()"
   ]
  },
  {
   "cell_type": "markdown",
   "metadata": {},
   "source": [
    "**2.Soru**\n",
    "   \n",
    "   Kullanıcıdan ad ve soyad değerlerini alıp, bu değerleri example.txt dosyasına yazdırınız."
   ]
  },
  {
   "cell_type": "code",
   "execution_count": 6,
   "metadata": {},
   "outputs": [
    {
     "name": "stdout",
     "output_type": "stream",
     "text": [
      "nur akçay \n"
     ]
    }
   ],
   "source": [
    "name = input(\"Adı Girin: \")\n",
    "surname = input(\"Soyadı Girin: \")\n",
    "with open(\"example.txt\", \"a\") as f:\n",
    "    f.write(name + \" \" + surname + \" \")\n",
    "\n",
    "with open(\"example.txt\", \"r\") as f:\n",
    "    print(f.read())\n"
   ]
  },
  {
   "cell_type": "markdown",
   "metadata": {},
   "source": [
    "**3.Soru**\n",
    "   \n",
    "   Kullanıcıdan yaş değerini alıp bu değeri example.txt dosyasına, dosyadaki verileri silmeden yazınız."
   ]
  },
  {
   "cell_type": "code",
   "execution_count": 10,
   "metadata": {},
   "outputs": [
    {
     "name": "stdout",
     "output_type": "stream",
     "text": [
      "nur akçay nur akçay 23 23\n"
     ]
    }
   ],
   "source": [
    "yas = input(\"Yaşı Girin: \")\n",
    "\n",
    "with open(\"example.txt\", \"a\") as f:\n",
    "    f.write(yas)\n",
    "\n",
    "with open(\"example.txt\", \"r\") as f:\n",
    "    print(f.read())"
   ]
  },
  {
   "cell_type": "markdown",
   "metadata": {},
   "source": [
    "**4.Soru**\n",
    "\n",
    "   example.txt dosyasının ilk 5 satırını okuyup ekrana yazdırınız."
   ]
  },
  {
   "cell_type": "code",
   "execution_count": 14,
   "metadata": {},
   "outputs": [
    {
     "name": "stdout",
     "output_type": "stream",
     "text": [
      "nur akçay nur akçay 23 23\n",
      "\n",
      "\n",
      "\n",
      "\n"
     ]
    }
   ],
   "source": [
    "with open(\"example.txt\", \"r\") as f:\n",
    "    for i in range(5):\n",
    "        print(f.readline())"
   ]
  },
  {
   "cell_type": "code",
   "execution_count": 1,
   "metadata": {},
   "outputs": [
    {
     "name": "stdout",
     "output_type": "stream",
     "text": [
      "nur akçay nur akçay 23 23\n"
     ]
    }
   ],
   "source": [
    "with open(\"example.txt\", \"r\") as f:\n",
    "    lines = f.readlines()\n",
    "    for i in lines:\n",
    "        print(i)"
   ]
  },
  {
   "cell_type": "code",
   "execution_count": 2,
   "metadata": {},
   "outputs": [
    {
     "name": "stdout",
     "output_type": "stream",
     "text": [
      "nur akçay nur akçay 23 23\n"
     ]
    }
   ],
   "source": [
    "with open(\"example.txt\", \"r\") as f:\n",
    "    lines = f.readlines()\n",
    "    for i in lines[0:5]:\n",
    "        print(i)"
   ]
  },
  {
   "cell_type": "code",
   "execution_count": null,
   "metadata": {},
   "outputs": [],
   "source": [
    "with open(\"example.txt\", \"r\") as f:\n",
    "    lines = f.readlines()\n",
    "    for i in lines:\n",
    "        print(lines[i])"
   ]
  },
  {
   "cell_type": "markdown",
   "metadata": {},
   "source": [
    "**5.Soru**\n",
    "\n",
    "tempData.txt dosyasındaki tüm satırları\n",
    "\n",
    "{\"Name\" : \"\", \"Surname\" : \"\", \"Gender\" : \"\", \"Age\" : \"\", \"Salary\" : \"\", \"Company\" : \"\", \"Department\" : \"\", \"Country\" : \"\" }\n",
    "\n",
    "tipindeki bir dictionary içerisine atıp sonrasında bunları bir listede toplayınız. Oluşturduğunuz liste üzerinde aşağıdaki işlemleri yapınız.\n",
    "\n",
    "* Sorun çıkarmaması için her satırdaki '\\n' karakterini '' ile replace ediniz. (line.replace('\\n',''))\n",
    "* Adı 'A' ile başlayanları ekrana yazdırınız.\n",
    "* Adı 'A' ile soyadı ise 'S' ile başlayanları ekrana yazdırınız.\n",
    "* Yaşı 30'dan büyük olanları ekrana yazdırınız.\n",
    "* Yaşı 40'tan büyük ve 50'den küçük olanları ekrana yazdırınız.\n",
    "* 'Research and Development' departmanında çalışanları ekrana yazdırınız.\n",
    "* 'India'da yaşayanları ekrana yazdırınız.\n",
    "* 'San Marino'da yaşayıp 'Sales' departmanında çalışanları ekrana yazdırınız.\n",
    "* 'Sales' departmanında çalışıp maaşı 30000'den yüksek olanları ekrana yazdırınız.\n",
    "* 'Apple Inc.' şirketinde çalışıp cinsiyeti kadın olanları ekrana yazdırınız.\n",
    "* 'Apple Inc.' şirketinde çalışıp maaşı 30000'den az olanları ekrana yazdırınız.\n",
    "* 'Sales' departmanında çalışanların oranını ekrana yazdırınız.\n",
    "* 'IT' departmanında çalışanların oranını yazdırınız.\n",
    "* 'IT' departmanında çalışan ve cinsiyeti kadın olanların oranını ekrana yazdırınız.\n",
    "* 'IT' departmanında çalışan ve cinsiyeti kadın olanların, 'IT' departmanında çalışan ve cinsiyeti erkek olaranlara oranını ekrana yazdırınız.\n",
    "* 'IT' departmanında çalışanların ortalama maaşını yazdırınız.\n",
    "* 'Sales' departmanında çalışanların ortalama yaşını yazdırınız."
   ]
  },
  {
   "cell_type": "code",
   "execution_count": null,
   "metadata": {},
   "outputs": [],
   "source": [
    "with open(\"./files/tempData.txt\", \"r\") as f:\n",
    "    print(f.read())\n",
    "    f.write(\"A\")"
   ]
  }
 ],
 "metadata": {
  "kernelspec": {
   "display_name": "Python 3.10.8 64-bit (microsoft store)",
   "language": "python",
   "name": "python3"
  },
  "language_info": {
   "codemirror_mode": {
    "name": "ipython",
    "version": 3
   },
   "file_extension": ".py",
   "mimetype": "text/x-python",
   "name": "python",
   "nbconvert_exporter": "python",
   "pygments_lexer": "ipython3",
   "version": "3.10.8"
  },
  "orig_nbformat": 4,
  "vscode": {
   "interpreter": {
    "hash": "75328cd36868a46990b96b50a3e79d16599f753ed0672728bccd76ddc954032c"
   }
  }
 },
 "nbformat": 4,
 "nbformat_minor": 2
}
